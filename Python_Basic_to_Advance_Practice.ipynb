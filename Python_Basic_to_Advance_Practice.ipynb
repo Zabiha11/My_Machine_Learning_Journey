{
  "nbformat": 4,
  "nbformat_minor": 0,
  "metadata": {
    "colab": {
      "provenance": [],
      "authorship_tag": "ABX9TyPDWVGUcfviI0xy42QItAVi",
      "include_colab_link": true
    },
    "kernelspec": {
      "name": "python3",
      "display_name": "Python 3"
    },
    "language_info": {
      "name": "python"
    }
  },
  "cells": [
    {
      "cell_type": "markdown",
      "metadata": {
        "id": "view-in-github",
        "colab_type": "text"
      },
      "source": [
        "<a href=\"https://colab.research.google.com/github/Zabiha11/My_Machine_Learning_Journey/blob/main/Python_Basic_to_Advance_Practice.ipynb\" target=\"_parent\"><img src=\"https://colab.research.google.com/assets/colab-badge.svg\" alt=\"Open In Colab\"/></a>"
      ]
    },
    {
      "cell_type": "markdown",
      "source": [
        "Chapter 2 practice set\n"
      ],
      "metadata": {
        "id": "ziZN5aR8aVJo"
      }
    },
    {
      "cell_type": "markdown",
      "source": [
        "Add two numbers"
      ],
      "metadata": {
        "id": "Af1R5dXHXl1h"
      }
    },
    {
      "cell_type": "code",
      "execution_count": null,
      "metadata": {
        "colab": {
          "base_uri": "https://localhost:8080/"
        },
        "id": "kBVyox4RXjls",
        "outputId": "969afd0f-f3f0-43b8-d8a6-0bd9dabb2c16"
      },
      "outputs": [
        {
          "output_type": "stream",
          "name": "stdout",
          "text": [
            "Enter 1st number: 3\n",
            "Enter 2nd number: 7\n",
            "10\n"
          ]
        }
      ],
      "source": [
        "a = int(input(\"Enter 1st number: \"))\n",
        "b = int(input(\"Enter 2nd number: \"))\n",
        "print(a+b)"
      ]
    },
    {
      "cell_type": "markdown",
      "source": [
        "Find remainder when divided by z"
      ],
      "metadata": {
        "id": "lpnFEVPSX374"
      }
    },
    {
      "cell_type": "code",
      "source": [
        "n = int(input(\"Enter a number to compute remainder: \"))\n",
        "z = int(input(\"Enter a number to divide by: \"))\n",
        "\n",
        "print(n%z)"
      ],
      "metadata": {
        "colab": {
          "base_uri": "https://localhost:8080/"
        },
        "id": "Y1CJWq3SX_rr",
        "outputId": "7eaa05ba-2af3-41c6-8e4b-8d12b94370f3"
      },
      "execution_count": null,
      "outputs": [
        {
          "output_type": "stream",
          "name": "stdout",
          "text": [
            "Enter a number to compute remainder: 10\n",
            "Enter a number to divide by: 3\n",
            "1\n"
          ]
        }
      ]
    },
    {
      "cell_type": "markdown",
      "source": [
        "Check type of variable assigned using input()"
      ],
      "metadata": {
        "id": "n7ju1xaLYYwS"
      }
    },
    {
      "cell_type": "code",
      "source": [
        "a = input()\n",
        "print(type(a))"
      ],
      "metadata": {
        "colab": {
          "base_uri": "https://localhost:8080/"
        },
        "id": "tECLp6aSYfjG",
        "outputId": "6d1fb42f-ce31-49f9-e727-2b9b03daa959"
      },
      "execution_count": null,
      "outputs": [
        {
          "output_type": "stream",
          "name": "stdout",
          "text": [
            "10\n",
            "<class 'str'>\n"
          ]
        }
      ]
    },
    {
      "cell_type": "markdown",
      "source": [
        "compare a and b"
      ],
      "metadata": {
        "id": "2o8WRMjcYrky"
      }
    },
    {
      "cell_type": "code",
      "source": [
        "a = int(input(\"Enter 1st number: \"))\n",
        "b = int(input(\"Enter 2nd number: \"))\n",
        "print(a>b)"
      ],
      "metadata": {
        "colab": {
          "base_uri": "https://localhost:8080/"
        },
        "id": "WcXNBlQ4YrDu",
        "outputId": "9d348354-303f-4908-b41b-64faa854360c"
      },
      "execution_count": null,
      "outputs": [
        {
          "output_type": "stream",
          "name": "stdout",
          "text": [
            "Enter 1st number: 34\n",
            "Enter 2nd number: 80\n",
            "False\n"
          ]
        }
      ]
    },
    {
      "cell_type": "markdown",
      "source": [
        "Average of two numbers\n"
      ],
      "metadata": {
        "id": "mVkl6HvDZHhG"
      }
    },
    {
      "cell_type": "code",
      "source": [
        "a = int(input(\"Enter 1st number: \"))\n",
        "b = int(input(\"Enter 2nd number: \"))\n",
        "print((a+b)/2)"
      ],
      "metadata": {
        "colab": {
          "base_uri": "https://localhost:8080/"
        },
        "id": "gfip6btXZMYF",
        "outputId": "76e7dcbc-c5e0-4d48-8973-9d8828978bea"
      },
      "execution_count": null,
      "outputs": [
        {
          "output_type": "stream",
          "name": "stdout",
          "text": [
            "Enter 1st number: 49\n",
            "Enter 2nd number: 75\n",
            "62.0\n"
          ]
        }
      ]
    },
    {
      "cell_type": "markdown",
      "source": [
        "Calculate Square of number generated by user"
      ],
      "metadata": {
        "id": "UjoiIc06ZWY4"
      }
    },
    {
      "cell_type": "code",
      "source": [
        "n = int(input(\"Enter a number: \"))\n",
        "print(n*n)"
      ],
      "metadata": {
        "id": "EMN20k0PZe3t"
      },
      "execution_count": null,
      "outputs": []
    },
    {
      "cell_type": "markdown",
      "source": [
        "Chapter 3 - Strings ( practice set )"
      ],
      "metadata": {
        "id": "dz1pki5KkWZ5"
      }
    },
    {
      "cell_type": "markdown",
      "source": [
        "1) name + Greetings"
      ],
      "metadata": {
        "id": "NDtnaloWke5L"
      }
    },
    {
      "cell_type": "code",
      "source": [
        "name = input(\"Enter your name: \")\n",
        "print(\"Good Afternoon, \" + name)"
      ],
      "metadata": {
        "colab": {
          "base_uri": "https://localhost:8080/"
        },
        "id": "ZmeOVXSvkdwY",
        "outputId": "67c9cae1-9814-4137-c3f3-c31f66630cc2"
      },
      "execution_count": null,
      "outputs": [
        {
          "output_type": "stream",
          "name": "stdout",
          "text": [
            "Enter your name: zabi\n",
            "Good Afternoon, zabi\n"
          ]
        }
      ]
    },
    {
      "cell_type": "markdown",
      "source": [
        "2) Fill in the letter template"
      ],
      "metadata": {
        "id": "bsIky0uzk1kP"
      }
    },
    {
      "cell_type": "code",
      "source": [
        "name = input(\"Enter your name: \")\n",
        "date = input(\"Enter date: \")\n",
        "letter = f'''\n",
        "Dear {name},\n",
        "You are selected!\n",
        "{date}\n",
        "'''\n",
        "print(letter)"
      ],
      "metadata": {
        "colab": {
          "base_uri": "https://localhost:8080/"
        },
        "id": "Y_XF96EQk5c-",
        "outputId": "1fc8154e-a305-46e1-ed39-2b1862aefec2"
      },
      "execution_count": null,
      "outputs": [
        {
          "output_type": "stream",
          "name": "stdout",
          "text": [
            "Enter your name: zabi\n",
            "Enter date: 21-07-2015\n",
            "\n",
            "Dear zabi,\n",
            "You are selected!\n",
            "21-07-2015\n",
            "\n"
          ]
        }
      ]
    },
    {
      "cell_type": "markdown",
      "source": [
        "3) Program to detect double space"
      ],
      "metadata": {
        "id": "u-9OfYxrmBbD"
      }
    },
    {
      "cell_type": "code",
      "source": [
        "sentence = input()\n",
        "sentence.find(\"  \")"
      ],
      "metadata": {
        "colab": {
          "base_uri": "https://localhost:8080/"
        },
        "id": "PQTho3jTmGoo",
        "outputId": "598a6090-265d-4e6c-e28a-6cb4f623239e"
      },
      "execution_count": null,
      "outputs": [
        {
          "name": "stdout",
          "output_type": "stream",
          "text": [
            "hi im zabi from pec  vnb\n"
          ]
        },
        {
          "output_type": "execute_result",
          "data": {
            "text/plain": [
              "19"
            ]
          },
          "metadata": {},
          "execution_count": 15
        }
      ]
    },
    {
      "cell_type": "markdown",
      "source": [
        "4) replace double space with single space from the previous problem"
      ],
      "metadata": {
        "id": "bADq9KfNmvPj"
      }
    },
    {
      "cell_type": "code",
      "source": [
        "sentence.replace(\"  \",\" \")"
      ],
      "metadata": {
        "colab": {
          "base_uri": "https://localhost:8080/",
          "height": 35
        },
        "id": "4LaflxGWm4Wj",
        "outputId": "cf7ed5d0-6eda-42a9-b9e6-73ffe2006e76"
      },
      "execution_count": null,
      "outputs": [
        {
          "output_type": "execute_result",
          "data": {
            "text/plain": [
              "'hi im zabi from pec vnb'"
            ],
            "application/vnd.google.colaboratory.intrinsic+json": {
              "type": "string"
            }
          },
          "metadata": {},
          "execution_count": 16
        }
      ]
    },
    {
      "cell_type": "markdown",
      "source": [
        "5) Program to format the letter"
      ],
      "metadata": {
        "id": "_C77Dfj3nAjh"
      }
    },
    {
      "cell_type": "code",
      "source": [
        "letter = \"Dear Zabi,\\nThis python course is nice.\\nThanks!\"\n",
        "print(letter)"
      ],
      "metadata": {
        "colab": {
          "base_uri": "https://localhost:8080/"
        },
        "id": "vs-4VT9RnJpY",
        "outputId": "6ac0dc77-5e7c-4b36-9486-5d8a637340f4"
      },
      "execution_count": null,
      "outputs": [
        {
          "output_type": "stream",
          "name": "stdout",
          "text": [
            "Dear Zabi,\n",
            "This python course is nice.\n",
            "Thanks!\n"
          ]
        }
      ]
    },
    {
      "cell_type": "markdown",
      "source": [
        "Chapter 4 - List and Tuples ( Practice set )"
      ],
      "metadata": {
        "id": "u6m2JIUZud21"
      }
    },
    {
      "cell_type": "markdown",
      "source": [
        "1) Program to store 7 fruits entered by users"
      ],
      "metadata": {
        "id": "dKrw0kNQuyeo"
      }
    },
    {
      "cell_type": "code",
      "source": [
        "fruits = []\n",
        "for i in range(1,8):\n",
        "  fruits.append(input(f\"Enter fruit {i}: \"))\n",
        "print(fruits)"
      ],
      "metadata": {
        "colab": {
          "base_uri": "https://localhost:8080/"
        },
        "id": "scdpqqVeu7_P",
        "outputId": "f71d2d9c-1821-405b-aa01-fb7f648ad343"
      },
      "execution_count": null,
      "outputs": [
        {
          "output_type": "stream",
          "name": "stdout",
          "text": [
            "Enter fruit 1: apple\n",
            "Enter fruit 2: banana\n",
            "Enter fruit 3: cherry\n",
            "Enter fruit 4: guava\n",
            "Enter fruit 5: strawberry\n",
            "Enter fruit 6: mango\n",
            "Enter fruit 7: melon\n",
            "['apple', 'banana', 'cherry', 'guava', 'strawberry', 'mango', 'melon']\n"
          ]
        }
      ]
    },
    {
      "cell_type": "markdown",
      "source": [
        "2) Accept marks of 6 students and display them in sorted order"
      ],
      "metadata": {
        "id": "KwSwdZ-LvwSH"
      }
    },
    {
      "cell_type": "code",
      "source": [
        "students = []\n",
        "for i in range(1,7):\n",
        "  students.append(int(input(f\"Enter mark of student {i}: \")))\n",
        "students.sort()\n",
        "print(students)"
      ],
      "metadata": {
        "colab": {
          "base_uri": "https://localhost:8080/"
        },
        "id": "yUCtvKBUuloT",
        "outputId": "ffc07b92-4944-47ae-a3c3-4972f8d5fd03"
      },
      "execution_count": null,
      "outputs": [
        {
          "output_type": "stream",
          "name": "stdout",
          "text": [
            "Enter mark of student 1: 2\n",
            "Enter mark of student 2: 8\n",
            "Enter mark of student 3: 9\n",
            "Enter mark of student 4: 5\n",
            "Enter mark of student 5: 3\n",
            "Enter mark of student 6: 1\n",
            "[1, 2, 3, 5, 8, 9]\n"
          ]
        }
      ]
    },
    {
      "cell_type": "markdown",
      "source": [
        "3) Check that a type cannot be changed in python"
      ],
      "metadata": {
        "id": "fskbQqGcw_Pf"
      }
    },
    {
      "cell_type": "code",
      "source": [
        "marks = [10, 20, 30]\n",
        "marks1=tuple(marks)\n",
        "type(marks1)\n",
        "print(marks1)\n",
        "print(marks)"
      ],
      "metadata": {
        "colab": {
          "base_uri": "https://localhost:8080/"
        },
        "id": "0MPNwAuYxOek",
        "outputId": "104fd70d-0971-4ad9-9ce6-17aeccac706b"
      },
      "execution_count": null,
      "outputs": [
        {
          "output_type": "stream",
          "name": "stdout",
          "text": [
            "(10, 20, 30)\n",
            "[10, 20, 30]\n"
          ]
        }
      ]
    },
    {
      "cell_type": "markdown",
      "source": [
        "4) Sum a List with 4 numbers"
      ],
      "metadata": {
        "id": "Ipc-J1KDx5RC"
      }
    },
    {
      "cell_type": "code",
      "source": [
        "list1 = [10, 20, 30, 40]\n",
        "print(sum(list1))"
      ],
      "metadata": {
        "colab": {
          "base_uri": "https://localhost:8080/"
        },
        "id": "qbO5QIWmyBBl",
        "outputId": "c1c860d9-bac0-44b2-b2e1-2992134f0296"
      },
      "execution_count": null,
      "outputs": [
        {
          "output_type": "stream",
          "name": "stdout",
          "text": [
            "100\n"
          ]
        }
      ]
    },
    {
      "cell_type": "markdown",
      "source": [
        "5) Program to count the number of zeros in the following tuple\n",
        "a = (7, 0, 8, 0, 0, 9)"
      ],
      "metadata": {
        "id": "d3PqLD4uy7Vc"
      }
    },
    {
      "cell_type": "code",
      "source": [
        "a = (7, 0, 8, 0, 0, 9)\n",
        "a.count(0)"
      ],
      "metadata": {
        "colab": {
          "base_uri": "https://localhost:8080/"
        },
        "id": "Gt0qzQzczNlv",
        "outputId": "3a050e59-2c20-4bb0-eea4-d209c0152509"
      },
      "execution_count": null,
      "outputs": [
        {
          "output_type": "execute_result",
          "data": {
            "text/plain": [
              "3"
            ]
          },
          "metadata": {},
          "execution_count": 36
        }
      ]
    },
    {
      "cell_type": "markdown",
      "source": [
        "**Chapter 5 Dictionaries and Set**\n"
      ],
      "metadata": {
        "id": "UwmQn0948W_j"
      }
    },
    {
      "cell_type": "markdown",
      "source": [
        "Example program for dictionaries"
      ],
      "metadata": {
        "id": "5cn07kLC4eqI"
      }
    },
    {
      "cell_type": "code",
      "source": [
        "# Sample dictionary\n",
        "person = {'name': 'Alice', 'age': 25, 'city': 'Paris'}\n",
        "\n",
        "# get()\n",
        "print(person.get('name'))       # Output: Alice\n",
        "print(person.get('country', 'France'))  # Output: France\n",
        "\n",
        "# keys(), values(), items()\n",
        "print(person.keys())    # dict_keys(['name', 'age', 'city'])\n",
        "print(person.values())  # dict_values(['Alice', 25, 'Paris'])\n",
        "print(person.items())   # dict_items([('name', 'Alice'), ('age', 25), ('city', 'Paris')])\n",
        "\n",
        "# update()\n",
        "person.update({'age': 26, 'country': 'France'})\n",
        "print(person)  # {'name': 'Alice', 'age': 26, 'city': 'Paris', 'country': 'France'}\n",
        "\n",
        "# pop()\n",
        "person.pop('city')\n",
        "print(person)  # {'name': 'Alice', 'age': 26, 'country': 'France'}\n",
        "\n",
        "# popitem()\n",
        "person.popitem()  # Removes last item\n",
        "print(person)\n",
        "\n",
        "# setdefault()\n",
        "person.setdefault('email', 'alice@example.com')\n",
        "print(person)\n",
        "\n",
        "# clear()\n",
        "person.clear()\n",
        "print(person)  # {}\n"
      ],
      "metadata": {
        "colab": {
          "base_uri": "https://localhost:8080/"
        },
        "id": "KIYkjGit4h2f",
        "outputId": "40548bee-67d8-45e9-d93a-7ad76bb6d10f"
      },
      "execution_count": null,
      "outputs": [
        {
          "output_type": "stream",
          "name": "stdout",
          "text": [
            "Alice\n",
            "France\n",
            "dict_keys(['name', 'age', 'city'])\n",
            "dict_values(['Alice', 25, 'Paris'])\n",
            "dict_items([('name', 'Alice'), ('age', 25), ('city', 'Paris')])\n",
            "{'name': 'Alice', 'age': 26, 'city': 'Paris', 'country': 'France'}\n",
            "{'name': 'Alice', 'age': 26, 'country': 'France'}\n",
            "{'name': 'Alice', 'age': 26}\n",
            "{'name': 'Alice', 'age': 26, 'email': 'alice@example.com'}\n",
            "{}\n"
          ]
        }
      ]
    },
    {
      "cell_type": "code",
      "source": [
        "s = { 10, 20, 30}\n",
        "print(type(s))"
      ],
      "metadata": {
        "colab": {
          "base_uri": "https://localhost:8080/"
        },
        "id": "k4Sy_7gV6v8n",
        "outputId": "44afd307-4b9d-4c95-da5f-51d5e6ab3ff6"
      },
      "execution_count": null,
      "outputs": [
        {
          "output_type": "stream",
          "name": "stdout",
          "text": [
            "<class 'set'>\n"
          ]
        }
      ]
    },
    {
      "cell_type": "markdown",
      "source": [
        "| Method                       | Description                                                                      |\n",
        "| ---------------------------- | -------------------------------------------------------------------------------- |\n",
        "| `add(elem)`                  | Adds an element to the set.                                                      |\n",
        "| `update(iterable)`           | Adds multiple elements from an iterable (e.g., list, tuple).                     |\n",
        "| `remove(elem)`               | Removes the specified element; raises `KeyError` if not found.                   |\n",
        "| `discard(elem)`              | Removes the specified element if present; no error if not found.                 |\n",
        "| `pop()`                      | Removes and returns an arbitrary element. Raises `KeyError` if the set is empty. |\n",
        "| `clear()`                    | Removes all elements from the set.                                               |\n",
        "| `copy()`                     | Returns a shallow copy of the set.                                               |\n",
        "| `union(set2)`                | Returns a new set with elements from both sets.                                  |\n",
        "| `intersection(set2)`         | Returns a new set with common elements.                                          |\n",
        "| `difference(set2)`           | Returns elements in the first set but not in the second.                         |\n",
        "| `symmetric_difference(set2)` | Returns elements in either set, but not both.                                    |\n",
        "| `issubset(set2)`             | Checks if the set is a subset of another.                                        |\n",
        "| `issuperset(set2)`           | Checks if the set is a superset of another.                                      |\n",
        "| `isdisjoint(set2)`           | Checks if two sets have no elements in common.                                   |\n"
      ],
      "metadata": {
        "id": "ARfBX9KY8Mas"
      }
    },
    {
      "cell_type": "markdown",
      "source": [
        "Chapter 5 - Practice Set ( Dictionaries and Sets )"
      ],
      "metadata": {
        "id": "HaryTm7AM0rV"
      }
    },
    {
      "cell_type": "markdown",
      "source": [
        "1) Dictionary with key - hindi word and value - english translation"
      ],
      "metadata": {
        "id": "QOulbPhmNDHQ"
      }
    },
    {
      "cell_type": "code",
      "source": [
        "lang = {\n",
        "    \"naam\": \"name\",\n",
        "    \"Phool\": \"Flower\",\n",
        "    \"Ghar\": \"Home\",\n",
        "    \"Bhai\": \"Brother\",\n",
        "    \"Gulab\": \"Rose\",\n",
        "    \"Dabba\": \"Box\"\n",
        "}\n",
        "\n",
        "print(lang.keys())\n",
        "a = input(\"Enter hindi word: \")\n",
        "print(lang.get(a))"
      ],
      "metadata": {
        "colab": {
          "base_uri": "https://localhost:8080/"
        },
        "id": "TQ28g2rnM_qK",
        "outputId": "606484b1-16d0-4736-d237-a2a4d0101920"
      },
      "execution_count": null,
      "outputs": [
        {
          "output_type": "stream",
          "name": "stdout",
          "text": [
            "dict_keys(['naam', 'Phool', 'Ghar', 'Bhai', 'Gulab', 'Dabba'])\n",
            "Enter hindi word: khana\n",
            "None\n"
          ]
        }
      ]
    },
    {
      "cell_type": "markdown",
      "source": [
        "2) Input 8 numbers and display all unique numbers"
      ],
      "metadata": {
        "id": "wl6EcfLwNwMs"
      }
    },
    {
      "cell_type": "code",
      "source": [
        "num = set()\n",
        "for i in range(1,9):\n",
        "  num.ad4d(int(input(f\"Enter number {i}: \")))\n",
        "print(num)"
      ],
      "metadata": {
        "colab": {
          "base_uri": "https://localhost:8080/"
        },
        "id": "fLuhet12OASR",
        "outputId": "709be8f6-0abe-4609-ed04-f6685e215bdb"
      },
      "execution_count": null,
      "outputs": [
        {
          "output_type": "stream",
          "name": "stdout",
          "text": [
            "Enter number 1: 60\n",
            "Enter number 2: 89\n",
            "Enter number 3: 37\n",
            "Enter number 4: 8\n",
            "Enter number 5: 28\n",
            "Enter number 6: 89\n",
            "Enter number 7: 8\n",
            "Enter number 8: 29\n",
            "{37, 8, 60, 89, 28, 29}\n"
          ]
        }
      ]
    },
    {
      "cell_type": "markdown",
      "source": [
        "4) is int(18) and str(18) same"
      ],
      "metadata": {
        "id": "BUW9JjkMOlyw"
      }
    },
    {
      "cell_type": "code",
      "source": [
        "num = {\"18\", 18}\n",
        "print(num)"
      ],
      "metadata": {
        "colab": {
          "base_uri": "https://localhost:8080/"
        },
        "id": "_F73w3UaUyO4",
        "outputId": "93ac7fdd-ca2e-4648-f6e9-592df686adaa"
      },
      "execution_count": null,
      "outputs": [
        {
          "output_type": "stream",
          "name": "stdout",
          "text": [
            "{18, '18'}\n"
          ]
        }
      ]
    },
    {
      "cell_type": "markdown",
      "source": [
        "5) Find the length of the string\n"
      ],
      "metadata": {
        "id": "h_scbmPbVm2Y"
      }
    },
    {
      "cell_type": "code",
      "source": [
        "s = set()\n",
        "s.add(20)\n",
        "s.add(20.0)\n",
        "s.add('20')\n",
        "print(s)\n",
        "len(s)"
      ],
      "metadata": {
        "colab": {
          "base_uri": "https://localhost:8080/"
        },
        "id": "LzZcaavWWDJF",
        "outputId": "69671524-8799-459a-de88-f6028a2a81de"
      },
      "execution_count": null,
      "outputs": [
        {
          "output_type": "stream",
          "name": "stdout",
          "text": [
            "{20, '20'}\n"
          ]
        },
        {
          "output_type": "execute_result",
          "data": {
            "text/plain": [
              "2"
            ]
          },
          "metadata": {},
          "execution_count": 7
        }
      ]
    },
    {
      "cell_type": "markdown",
      "source": [
        "Create an empty dictionary, Allow 4 frds to enter their faviorate lang as value"
      ],
      "metadata": {
        "id": "sg7IDO76ZcH_"
      }
    },
    {
      "cell_type": "code",
      "source": [
        "friends = {\n",
        "    \"zabi\": \"Python\",\n",
        "    \"mus\": \"Java\",\n",
        "    \"Tom\": \"Java\",\n",
        "    \"zabi\": \"HTML\"\n",
        "}\n",
        "print(friends)"
      ],
      "metadata": {
        "colab": {
          "base_uri": "https://localhost:8080/"
        },
        "id": "kglKNpYLZR3b",
        "outputId": "19beb355-5b5a-4a7f-854e-e87386fd3f54"
      },
      "execution_count": null,
      "outputs": [
        {
          "output_type": "stream",
          "name": "stdout",
          "text": [
            "{'zabi': 'HTML', 'mus': 'Java', 'Tom': 'Java'}\n"
          ]
        }
      ]
    },
    {
      "cell_type": "markdown",
      "source": [
        "**Chapter 6 - Conditional Expressions ( Practice Set )**"
      ],
      "metadata": {
        "id": "DV-o-XbVgzgR"
      }
    },
    {
      "cell_type": "markdown",
      "source": [
        "Find Greatest of 4 numbers"
      ],
      "metadata": {
        "id": "CUiwvBkMjA5l"
      }
    },
    {
      "cell_type": "code",
      "source": [
        "a = int(input(\"Enter 1: \"))\n",
        "b = int(input(\"Enter 2: \"))\n",
        "c = int(input(\"Enter 3: \"))\n",
        "d = int(input(\"Enter 4: \"))\n",
        "if a>b and a>c and a>d:\n",
        "  print(f\"{a} is greatest\")\n",
        "elif b>a and b>c and b>d:\n",
        "  print(f\"{b} is greatest\")\n",
        "elif c>a and c>b and c>d:\n",
        "  print(f\"{c} is greatest\")\n",
        "else:\n",
        "  print(f\"{d} is greatest\")"
      ],
      "metadata": {
        "colab": {
          "base_uri": "https://localhost:8080/"
        },
        "id": "qE4aqXbrgz9k",
        "outputId": "32095e63-d9c1-45f5-d541-1263a7fdcde2"
      },
      "execution_count": null,
      "outputs": [
        {
          "output_type": "stream",
          "name": "stdout",
          "text": [
            "Enter 1: 1\n",
            "Enter 2: 4\n",
            "Enter 3: 6\n",
            "Enter 4: 8\n",
            "8 is greatest\n"
          ]
        }
      ]
    },
    {
      "cell_type": "markdown",
      "source": [
        "Student pass/fail in each subject, overall 40% and 33% in each subject atleast"
      ],
      "metadata": {
        "id": "gDNVw4ZgkfXc"
      }
    },
    {
      "cell_type": "code",
      "source": [
        "sub1 = int(input(\"Enter marks of sub1: \"))\n",
        "sub2 = int(input(\"Enter marks of sub2: \"))\n",
        "sub3 = int(input(\"Enter marks of sub3: \"))\n",
        "if sub1 > 33 and sub2 > 33 and sub3 > 33:\n",
        "  if (sub1+sub2+sub3)/3 > 40:\n",
        "    print(\"Pass\")\n",
        "  else:\n",
        "    print(\"Fail\")\n",
        "else:\n",
        "  print(\"Fail\")"
      ],
      "metadata": {
        "colab": {
          "base_uri": "https://localhost:8080/"
        },
        "id": "RiMo6f_Xg0zy",
        "outputId": "38441d32-f5d3-46d4-b4fd-77159e4ec01b"
      },
      "execution_count": null,
      "outputs": [
        {
          "output_type": "stream",
          "name": "stdout",
          "text": [
            "Enter marks of sub1: 40\n",
            "Enter marks of sub2: 60\n",
            "Enter marks of sub3: 99\n",
            "Pass\n"
          ]
        }
      ]
    },
    {
      "cell_type": "markdown",
      "source": [
        "Program to detect spam comments"
      ],
      "metadata": {
        "id": "F4SRN7e9mAmE"
      }
    },
    {
      "cell_type": "code",
      "source": [
        "spam_comments = [\"Make a lot of money\", \"Buy now\", \"Subscribe this\", \"Click this\"]\n",
        "comment = input(\"Enter comment: \")\n",
        "if comment in spam_comments:\n",
        "  print(\"Spam\")\n",
        "else:\n",
        "  print(\"Not Spam\")"
      ],
      "metadata": {
        "colab": {
          "base_uri": "https://localhost:8080/"
        },
        "id": "WQLK9l2lmEQJ",
        "outputId": "cab4b15a-744a-4914-bc57-8529f503d234"
      },
      "execution_count": null,
      "outputs": [
        {
          "output_type": "stream",
          "name": "stdout",
          "text": [
            "Enter comment: Buy now\n",
            "Spam\n"
          ]
        }
      ]
    },
    {
      "cell_type": "markdown",
      "source": [
        "username with 10 char or less"
      ],
      "metadata": {
        "id": "hNfR8KMRmhQM"
      }
    },
    {
      "cell_type": "code",
      "source": [
        "username = input(\"Enter Username: \")\n",
        "if len(username) < 10:\n",
        "  print(\"less than 10 characters\")\n",
        "else:\n",
        "  print(\"more than 10 characters\")"
      ],
      "metadata": {
        "colab": {
          "base_uri": "https://localhost:8080/"
        },
        "id": "ZtfbCtI0mox3",
        "outputId": "f4c548c6-7399-4cba-9a52-42ea4976acb5"
      },
      "execution_count": null,
      "outputs": [
        {
          "output_type": "stream",
          "name": "stdout",
          "text": [
            "Enter Username: zabihamuskan\n",
            "more than 10 characters\n"
          ]
        }
      ]
    },
    {
      "cell_type": "markdown",
      "source": [
        "check the given name is in list or not"
      ],
      "metadata": {
        "id": "kqoDA7PbnTfw"
      }
    },
    {
      "cell_type": "code",
      "source": [
        "name = [\"zara\", \"zabi\", \"mus\", \"Tom\", \"Jerry\"]\n",
        "check = input(\"Enter name:\")\n",
        "if check in name:\n",
        "  print(\"Present\")\n",
        "else:\n",
        "  print(\"Not Present\")\n"
      ],
      "metadata": {
        "colab": {
          "base_uri": "https://localhost:8080/"
        },
        "id": "bHiwpyl7nyPE",
        "outputId": "4a5b2bea-eb54-4aad-ee77-80197df7494b"
      },
      "execution_count": null,
      "outputs": [
        {
          "output_type": "stream",
          "name": "stdout",
          "text": [
            "Enter name:zara\n",
            "Present\n"
          ]
        }
      ]
    },
    {
      "cell_type": "markdown",
      "source": [
        "Calculate Grade"
      ],
      "metadata": {
        "id": "uBmIpGBHoVD0"
      }
    },
    {
      "cell_type": "code",
      "source": [
        "marks = int(input(\"Enter marks:\"))\n",
        "if marks > 90 and marks <= 100:\n",
        "  print(\"Excellent\")\n",
        "elif marks > 80 and marks <= 90:\n",
        "  print(\"A\")\n",
        "elif marks > 70 and marks <= 80:\n",
        "  print(\"B\")\n",
        "elif marks > 60 and marks <= 70:\n",
        "  print(\"C\")\n",
        "elif marks > 50 and marks <= 60:\n",
        "  print(\"D\")\n",
        "else:\n",
        "  print(\"F\")"
      ],
      "metadata": {
        "colab": {
          "base_uri": "https://localhost:8080/"
        },
        "id": "PPzB4IAqomWr",
        "outputId": "8564b51e-68af-4f6d-a410-0ce4d20d9f2c"
      },
      "execution_count": null,
      "outputs": [
        {
          "output_type": "stream",
          "name": "stdout",
          "text": [
            "Enter marks:89\n",
            "A\n"
          ]
        }
      ]
    },
    {
      "cell_type": "markdown",
      "source": [
        "is the post talking about harry?"
      ],
      "metadata": {
        "id": "R78E-iQmolGB"
      }
    },
    {
      "cell_type": "code",
      "source": [
        "talking = \"Harry\"\n",
        "post = input(\"Enter post: \")\n",
        "if talking in post:\n",
        "  print(\"Yes\")\n",
        "else:\n",
        "  print(\"No\")"
      ],
      "metadata": {
        "colab": {
          "base_uri": "https://localhost:8080/"
        },
        "id": "hrgT7xIApuQ8",
        "outputId": "5ad94ba9-df5e-48b0-edd2-945282ea0fe8"
      },
      "execution_count": null,
      "outputs": [
        {
          "output_type": "stream",
          "name": "stdout",
          "text": [
            "Enter post: Harry\n",
            "Yes\n"
          ]
        }
      ]
    },
    {
      "cell_type": "markdown",
      "source": [
        "**Chapter 7 - Loops in Python (practice set)**"
      ],
      "metadata": {
        "id": "SnXxHBGl4_fe"
      }
    },
    {
      "cell_type": "markdown",
      "source": [
        "Print Multiplication table"
      ],
      "metadata": {
        "id": "ucoI1khz5JcS"
      }
    },
    {
      "cell_type": "code",
      "source": [
        "n = int(input(\"Enter a number: \"))\n",
        "for i in range(n):\n",
        "  print(f\"{n} * {i+1} = {n*(i+1)}\")"
      ],
      "metadata": {
        "colab": {
          "base_uri": "https://localhost:8080/"
        },
        "id": "TDY2tJWB5IZY",
        "outputId": "609b9b13-108b-4987-961d-379d20e3024e"
      },
      "execution_count": null,
      "outputs": [
        {
          "output_type": "stream",
          "name": "stdout",
          "text": [
            "Enter a number: 5\n",
            "5 * 1 = 5\n",
            "5 * 2 = 10\n",
            "5 * 3 = 15\n",
            "5 * 4 = 20\n",
            "5 * 5 = 25\n"
          ]
        }
      ]
    },
    {
      "cell_type": "markdown",
      "source": [
        "program to greet all persons name stored in list which starts with \"s\"."
      ],
      "metadata": {
        "id": "GgzlPYzE6H6D"
      }
    },
    {
      "cell_type": "code",
      "source": [
        "names = [\"zabiha\", \"musab\", \"Mota\", \"Tom\", \"Pikachu\", \"sunday\"]\n",
        "for name in names:\n",
        "  if name.startswith(\"s\"):\n",
        "    print(f\"Hello {name}!\")"
      ],
      "metadata": {
        "colab": {
          "base_uri": "https://localhost:8080/"
        },
        "id": "eYV8_pxm6VqY",
        "outputId": "114fe0fd-000e-4e82-fc89-0daa361a0330"
      },
      "execution_count": null,
      "outputs": [
        {
          "output_type": "stream",
          "name": "stdout",
          "text": [
            "Hello sunday!\n"
          ]
        }
      ]
    },
    {
      "cell_type": "markdown",
      "source": [
        "tables using while loop"
      ],
      "metadata": {
        "id": "1eFD72Pz7BV_"
      }
    },
    {
      "cell_type": "code",
      "source": [
        "n = int(input(\"Enter a number: \"))\n",
        "i = 1\n",
        "while(i<=10):\n",
        "  print(f\"{n} X {i} = {n*i}\")\n",
        "  i += 1"
      ],
      "metadata": {
        "colab": {
          "base_uri": "https://localhost:8080/"
        },
        "id": "SJdiySU27I2C",
        "outputId": "542b5bc0-de0b-470d-86ea-8207028e496b"
      },
      "execution_count": null,
      "outputs": [
        {
          "output_type": "stream",
          "name": "stdout",
          "text": [
            "Enter a number: 3\n",
            "3 X 1 = 3\n",
            "3 X 2 = 6\n",
            "3 X 3 = 9\n",
            "3 X 4 = 12\n",
            "3 X 5 = 15\n",
            "3 X 6 = 18\n",
            "3 X 7 = 21\n",
            "3 X 8 = 24\n",
            "3 X 9 = 27\n",
            "3 X 10 = 30\n"
          ]
        }
      ]
    },
    {
      "cell_type": "markdown",
      "source": [],
      "metadata": {
        "id": "hrQtamNVEiEw"
      }
    },
    {
      "cell_type": "markdown",
      "source": [
        "Given number is prime or not"
      ],
      "metadata": {
        "id": "OwKnu7C376xD"
      }
    },
    {
      "cell_type": "code",
      "source": [
        "n = int(input(\"Enter a number: \"))\n",
        "\n",
        "for i in range(2, int(n/2)+1):\n",
        "  if(n%i == 0):\n",
        "    print(f\"{n} is not Prime\")\n",
        "    break\n",
        "  else:\n",
        "    print(f\"{n} is Prime\")\n",
        "    break\n",
        "else:\n",
        "  print(f\"{n} is prime\")\n"
      ],
      "metadata": {
        "colab": {
          "base_uri": "https://localhost:8080/"
        },
        "id": "4iJV2QXgEijm",
        "outputId": "90c084c1-59b4-4eec-a239-ac867d5830e0"
      },
      "execution_count": null,
      "outputs": [
        {
          "output_type": "stream",
          "name": "stdout",
          "text": [
            "Enter a number: 23\n",
            "23 is Prime\n"
          ]
        }
      ]
    },
    {
      "cell_type": "markdown",
      "source": [
        "Sum of first n natural numbers"
      ],
      "metadata": {
        "id": "cgwVEskGFWNU"
      }
    },
    {
      "cell_type": "code",
      "source": [
        "n = int(input(\"Enter a number: \"))\n",
        "\n",
        "i = 0\n",
        "sum = 0\n",
        "\n",
        "while(i<=n):\n",
        "  sum += i\n",
        "  i += 1\n",
        "\n",
        "print(f\"Sum is: {sum}\")"
      ],
      "metadata": {
        "colab": {
          "base_uri": "https://localhost:8080/"
        },
        "id": "c-laXUDUFZkx",
        "outputId": "085931cb-80c3-44c6-a341-207ddb21effe"
      },
      "execution_count": null,
      "outputs": [
        {
          "output_type": "stream",
          "name": "stdout",
          "text": [
            "Enter a number: 4\n",
            "Sum is: 10\n"
          ]
        }
      ]
    },
    {
      "cell_type": "markdown",
      "source": [
        "Factorial of a number"
      ],
      "metadata": {
        "id": "NF6elG9cGDhF"
      }
    },
    {
      "cell_type": "code",
      "source": [
        "n = int(input(\"Enter a number: \"))\n",
        "\n",
        "fact = 1\n",
        "i = 1\n",
        "\n",
        "for num in range(n+1):\n",
        "  fact *= i\n",
        "  i += 1\n",
        "\n",
        "print(f\"Factorial of {n} is {fact}\")"
      ],
      "metadata": {
        "colab": {
          "base_uri": "https://localhost:8080/"
        },
        "id": "jup_1LbkGMmR",
        "outputId": "0afa2ee4-ce59-4386-c776-a46634f2ea59"
      },
      "execution_count": null,
      "outputs": [
        {
          "output_type": "stream",
          "name": "stdout",
          "text": [
            "Enter a number: 4\n",
            "Factorial of 4 is 120\n"
          ]
        }
      ]
    },
    {
      "cell_type": "markdown",
      "source": [
        "Print star pattern"
      ],
      "metadata": {
        "id": "NhbliU9CHnTi"
      }
    },
    {
      "cell_type": "code",
      "source": [
        "n = int(input(\"Enter a number: \"))\n",
        "for i in range(1,n+1):\n",
        "  print(\"*\" * i)\n",
        "  i += 1"
      ],
      "metadata": {
        "colab": {
          "base_uri": "https://localhost:8080/"
        },
        "id": "GGq3eMHxHwV5",
        "outputId": "36c63c5d-446e-4e74-d414-86f0e3c993a5"
      },
      "execution_count": null,
      "outputs": [
        {
          "output_type": "stream",
          "name": "stdout",
          "text": [
            "Enter a number: 3\n",
            "*\n",
            "**\n",
            "***\n"
          ]
        }
      ]
    },
    {
      "cell_type": "code",
      "source": [
        "n = int(input(\"Enter a value: \"))\n",
        "\n",
        "for i in range(1, n+1):\n",
        "  print(\" \" * (n-i), end = \"\")\n",
        "  print(\"*\" * (2*i-1), end = \"\")\n",
        "  print(\"\")"
      ],
      "metadata": {
        "colab": {
          "base_uri": "https://localhost:8080/"
        },
        "id": "yR0_H8rzJQ8N",
        "outputId": "4cf86a20-ce26-414e-d317-9e18a8f2ca7f"
      },
      "execution_count": null,
      "outputs": [
        {
          "output_type": "stream",
          "name": "stdout",
          "text": [
            "Enter a value: 3\n",
            "  *\n",
            " ***\n",
            "*****\n"
          ]
        }
      ]
    },
    {
      "cell_type": "code",
      "source": [
        "n = int(input(\"Enter a number: \"))\n",
        "for i in range(1, n+1):\n",
        "  if(i == 1 or i == n):\n",
        "    print(\"*\" * n, end = \"\")\n",
        "  else:\n",
        "    print(\"*\", end = \"\")\n",
        "    print(\" \" * (n-2), end = \"\")\n",
        "    print(\"*\", end = \"\")\n",
        "  print(\"\")"
      ],
      "metadata": {
        "id": "W2uSrYWwQlb1",
        "colab": {
          "base_uri": "https://localhost:8080/"
        },
        "outputId": "f631f717-c96e-4111-fe61-340fc8f7f93a"
      },
      "execution_count": null,
      "outputs": [
        {
          "output_type": "stream",
          "name": "stdout",
          "text": [
            "Enter a number: 5\n",
            "*****\n",
            "*   *\n",
            "*   *\n",
            "*   *\n",
            "*****\n"
          ]
        }
      ]
    },
    {
      "cell_type": "markdown",
      "source": [
        "Tables in Reverse"
      ],
      "metadata": {
        "id": "b1g9vLgPZSfn"
      }
    },
    {
      "cell_type": "code",
      "source": [
        "n = int(input(\"Enter a number: \"))\n",
        "\n",
        "for i in range(10,0,-1):\n",
        "  print(f\"{n} X {i} = {n*i}\")"
      ],
      "metadata": {
        "colab": {
          "base_uri": "https://localhost:8080/"
        },
        "id": "V-76Q2tIZUlw",
        "outputId": "2ffcee76-d182-49fb-cc79-d3ef518ad4b7"
      },
      "execution_count": null,
      "outputs": [
        {
          "output_type": "stream",
          "name": "stdout",
          "text": [
            "Enter a number: 4\n",
            "4 X 10 = 40\n",
            "4 X 9 = 36\n",
            "4 X 8 = 32\n",
            "4 X 7 = 28\n",
            "4 X 6 = 24\n",
            "4 X 5 = 20\n",
            "4 X 4 = 16\n",
            "4 X 3 = 12\n",
            "4 X 2 = 8\n",
            "4 X 1 = 4\n"
          ]
        }
      ]
    },
    {
      "cell_type": "markdown",
      "source": [
        "**Chapter 8 Functions and Recusion (Practice Set)**"
      ],
      "metadata": {
        "id": "x0DHczMKuoaH"
      }
    },
    {
      "cell_type": "markdown",
      "source": [
        "Function to Find Greatest of 3 Numbers"
      ],
      "metadata": {
        "id": "Vh1Tzz_Lux20"
      }
    },
    {
      "cell_type": "code",
      "source": [
        "def greatest(a, b, c):\n",
        "  if a>b and a>c:\n",
        "    print(f\"{a} is greatest\")\n",
        "  elif b>a and b>c:\n",
        "    print(f\"{b} is greatest\")\n",
        "  else:\n",
        "    print(f\"{c} is greatest\")\n",
        "\n",
        "greatest(10, 20, 30)"
      ],
      "metadata": {
        "colab": {
          "base_uri": "https://localhost:8080/"
        },
        "id": "PyXo5Qoiuww9",
        "outputId": "a82719d9-0ac2-4a41-cb3a-d24ed06476a1"
      },
      "execution_count": null,
      "outputs": [
        {
          "output_type": "stream",
          "name": "stdout",
          "text": [
            "30 is greatest\n"
          ]
        }
      ]
    },
    {
      "cell_type": "code",
      "source": [
        "class Employee:\n",
        "  def __init__(self, name, dep):\n",
        "    self.name = name\n",
        "    self.DEP = dep\n",
        "\n",
        "emp1 = Employee(\"Zabi\", \"CSE\")\n",
        "print(emp1.name)\n",
        "print(emp1.DEP)"
      ],
      "metadata": {
        "colab": {
          "base_uri": "https://localhost:8080/"
        },
        "id": "JRKMWErBNTt0",
        "outputId": "9284bfdb-3f97-4b67-a5cf-863ed9bda045"
      },
      "execution_count": null,
      "outputs": [
        {
          "output_type": "stream",
          "name": "stdout",
          "text": [
            "Zabi\n",
            "CSE\n"
          ]
        }
      ]
    },
    {
      "cell_type": "markdown",
      "source": [
        "Celcius to Fahrenheit"
      ],
      "metadata": {
        "id": "yzRM6OKKv3_L"
      }
    },
    {
      "cell_type": "code",
      "source": [
        "def temp(celcius):\n",
        "  fahrenheit = (celcius * 9/5) + 32\n",
        "  return fahrenheit\n",
        "\n",
        "temp(0)\n"
      ],
      "metadata": {
        "colab": {
          "base_uri": "https://localhost:8080/"
        },
        "id": "ouKEJnE4v8Ox",
        "outputId": "5439cf1d-8a5a-4230-c711-2b8b137bd4d0"
      },
      "execution_count": null,
      "outputs": [
        {
          "output_type": "execute_result",
          "data": {
            "text/plain": [
              "32.0"
            ]
          },
          "metadata": {},
          "execution_count": 5
        }
      ]
    },
    {
      "cell_type": "markdown",
      "source": [
        "prevent python function from printing new line at the end"
      ],
      "metadata": {
        "id": "tAtOhCpDws1e"
      }
    },
    {
      "cell_type": "code",
      "source": [
        "print(\"hi \", end = \"\")\n",
        "print(\"Zabiha\")"
      ],
      "metadata": {
        "colab": {
          "base_uri": "https://localhost:8080/"
        },
        "id": "2EQ-39h4w3NG",
        "outputId": "45a0de3f-ff81-47d4-95d6-19744bfb1186"
      },
      "execution_count": null,
      "outputs": [
        {
          "output_type": "stream",
          "name": "stdout",
          "text": [
            "hi Zabiha\n"
          ]
        }
      ]
    },
    {
      "cell_type": "markdown",
      "source": [
        "Recursive Function to calculate the sum of first natural numbers"
      ],
      "metadata": {
        "id": "H8U_7FE6xV_g"
      }
    },
    {
      "cell_type": "code",
      "source": [
        "n = int(input(\"Enter a number: \"))\n",
        "sum = 0\n",
        "def sum_of_n(num):\n",
        "  if num == 0:\n",
        "    return 0\n",
        "  else:\n",
        "    return num + sum_of_n(num - 1)\n",
        "sum_of_n(5)"
      ],
      "metadata": {
        "colab": {
          "base_uri": "https://localhost:8080/"
        },
        "id": "9tHKwp5CxcdX",
        "outputId": "235e2984-ccff-492d-e18a-6db0b140a228"
      },
      "execution_count": null,
      "outputs": [
        {
          "name": "stdout",
          "output_type": "stream",
          "text": [
            "Enter a number: 5\n"
          ]
        },
        {
          "output_type": "execute_result",
          "data": {
            "text/plain": [
              "15"
            ]
          },
          "metadata": {},
          "execution_count": 7
        }
      ]
    },
    {
      "cell_type": "markdown",
      "source": [
        "Print Pattern"
      ],
      "metadata": {
        "id": "kKL1cRigzu9J"
      }
    },
    {
      "cell_type": "code",
      "source": [
        "n = int(input(\"Enter a number: \"))\n",
        "\n",
        "def pattern(n):\n",
        "  if n == 0:\n",
        "    return\n",
        "  else:\n",
        "    print(\"*\" * n)\n",
        "    pattern(n-1)"
      ],
      "metadata": {
        "colab": {
          "base_uri": "https://localhost:8080/"
        },
        "id": "Jj_DKV5Qz9JU",
        "outputId": "015114f7-9d29-4cd1-b60c-445cd6b7188b"
      },
      "execution_count": null,
      "outputs": [
        {
          "output_type": "stream",
          "name": "stdout",
          "text": [
            "Enter a number: 5\n",
            "*****\n",
            "****\n",
            "***\n",
            "**\n",
            "*\n"
          ]
        }
      ]
    },
    {
      "cell_type": "markdown",
      "source": [
        "Inch to cm function"
      ],
      "metadata": {
        "id": "lUdnaymA3xAJ"
      }
    },
    {
      "cell_type": "code",
      "source": [
        "n = int(input(\"Enter inch: \"))\n",
        "\n",
        "def cm_fun(inch):\n",
        "  cm = inch * 2.54\n",
        "  print(f\"{inch} inch = {cm} cm\")\n",
        "\n",
        "cm_fun(n)"
      ],
      "metadata": {
        "colab": {
          "base_uri": "https://localhost:8080/"
        },
        "id": "Jthghx3l4XuF",
        "outputId": "f01b4950-0fa4-42b3-bb32-7eb4d0736c6d"
      },
      "execution_count": null,
      "outputs": [
        {
          "output_type": "stream",
          "name": "stdout",
          "text": [
            "Enter inch: 5\n",
            "5 inch = 12.7 cm\n"
          ]
        }
      ]
    },
    {
      "cell_type": "markdown",
      "source": [
        "Remove a given word from the list and strip it at the same time"
      ],
      "metadata": {
        "id": "QR2RIJz95-us"
      }
    },
    {
      "cell_type": "code",
      "source": [
        "animals = [\"Cat\", \"Dog\", \"Rat\", \"Parrot\"]\n",
        "\n",
        "word = \"t\"\n",
        "\n",
        "def rem(l, word):\n",
        "  new_list = []\n",
        "  for item in l:\n",
        "    if not item == word:\n",
        "      new_list.append(item.strip(word))\n",
        "  return new_list\n",
        "\n",
        "rem(animals, word)\n"
      ],
      "metadata": {
        "colab": {
          "base_uri": "https://localhost:8080/"
        },
        "id": "ZfIxtEnu6PO3",
        "outputId": "56a24b02-fd2c-46c9-d481-7e42da6057dd"
      },
      "execution_count": null,
      "outputs": [
        {
          "output_type": "execute_result",
          "data": {
            "text/plain": [
              "['Ca', 'Dog', 'Ra', 'Parro']"
            ]
          },
          "metadata": {},
          "execution_count": 16
        }
      ]
    },
    {
      "cell_type": "markdown",
      "source": [
        "Function to print multiplication table"
      ],
      "metadata": {
        "id": "jeGl0UA46y_r"
      }
    },
    {
      "cell_type": "code",
      "source": [
        "n = int(input(\"Enter a number: \"))\n",
        "\n",
        "def tables(n):\n",
        "  print(f\"Tables of {n}\")\n",
        "  for i in range(1,11):\n",
        "    print(f\"{n} X {i} = {n*i}\")\n",
        "\n",
        "tables(n)"
      ],
      "metadata": {
        "colab": {
          "base_uri": "https://localhost:8080/"
        },
        "id": "NNCWVHr_632o",
        "outputId": "6ecdcc64-57c1-47ca-e54d-f47884953188"
      },
      "execution_count": null,
      "outputs": [
        {
          "output_type": "stream",
          "name": "stdout",
          "text": [
            "Enter a number: 5\n",
            "Tables of 5\n",
            "5 X 1 = 5\n",
            "5 X 2 = 10\n",
            "5 X 3 = 15\n",
            "5 X 4 = 20\n",
            "5 X 5 = 25\n",
            "5 X 6 = 30\n",
            "5 X 7 = 35\n",
            "5 X 8 = 40\n",
            "5 X 9 = 45\n",
            "5 X 10 = 50\n"
          ]
        }
      ]
    },
    {
      "cell_type": "markdown",
      "source": [
        "**Snake Water Gun Game**"
      ],
      "metadata": {
        "id": "DXWv1dXGg_q4"
      }
    },
    {
      "cell_type": "code",
      "source": [
        "import random\n",
        "\n",
        "computer = random.choice([0, -1, 1])\n",
        "youstr = input(\"Enter your choice: \")\n",
        "youDict = {\"s\":1, \"w\":-1, \"g\":0}\n",
        "reverseDict = {1:\"Snake\", -1:\"Water\", 0:\"Gun\"}\n",
        "you = youDict[youstr]\n",
        "\n",
        "print(f\"You chose {reverseDict[you]} \\nComputer chose {reverseDict[computer]}\")\n",
        "\n",
        "if(computer == you):\n",
        "  print(\"It's a Draw\")\n",
        "else:\n",
        "  if(computer == 1 and you == 0):\n",
        "    print(\"You Win\")\n",
        "  elif(computer == 1 and you == -1):\n",
        "    print(\"Computer Won\")\n",
        "  elif(computer == 0 and you == 1):\n",
        "    print(\"Computer Won\")\n",
        "  elif(computer == 0 and you == -1):\n",
        "    print(\"You Won\")\n",
        "  elif(computer == -1 and you == 0):\n",
        "    print(\"Computer Won\")\n",
        "  elif(computer == -1 and you == 1):\n",
        "    print(\"You Won\")\n",
        "  else:\n",
        "    print(\"Something went wrong\")"
      ],
      "metadata": {
        "id": "TugFX2GfJNfD",
        "colab": {
          "base_uri": "https://localhost:8080/"
        },
        "outputId": "e01e4d69-5e39-4ee9-ad10-12c6b8c99698"
      },
      "execution_count": null,
      "outputs": [
        {
          "output_type": "stream",
          "name": "stdout",
          "text": [
            "Enter your choice: w\n",
            "You chose Water \n",
            "Computer chose Snake\n",
            "Computer Won\n"
          ]
        }
      ]
    },
    {
      "cell_type": "markdown",
      "source": [
        "Same game with lil number of lines"
      ],
      "metadata": {
        "id": "CcB5RqfqmLmx"
      }
    },
    {
      "cell_type": "code",
      "source": [
        "import random\n",
        "\n",
        "computer = random.choice([0, -1, 1])\n",
        "youstr = input(\"Enter your choice: \")\n",
        "youDict = {\"s\":1, \"w\":-1, \"g\":0}\n",
        "reverseDict = {1:\"Snake\", -1:\"Water\", 0:\"Gun\"}\n",
        "you = youDict[youstr]\n",
        "\n",
        "print(f\"You chose {reverseDict[you]} \\nComputer chose {reverseDict[computer]}\")\n",
        "if(computer == you):\n",
        "  print(\"It's a Draw\")\n",
        "else:\n",
        "  if((computer-you) == -1 or (computer-you) == 2): #This logic is written in the basis of Computer - You Computation.\n",
        "    print(\"Computer Won\")\n",
        "  else:\n",
        "    print(\"You Won\")\n"
      ],
      "metadata": {
        "colab": {
          "base_uri": "https://localhost:8080/"
        },
        "id": "cj2K9uZ6mIp8",
        "outputId": "9b8a3504-0e40-4195-9ef0-7c944166c4e9"
      },
      "execution_count": null,
      "outputs": [
        {
          "output_type": "stream",
          "name": "stdout",
          "text": [
            "Enter your choice: s\n",
            "You chose Snake \n",
            "Computer chose Water\n",
            "You Won\n"
          ]
        }
      ]
    },
    {
      "cell_type": "markdown",
      "source": [
        "Opening a file"
      ],
      "metadata": {
        "id": "1tSjKKWnpbqi"
      }
    },
    {
      "cell_type": "code",
      "source": [
        "f = open(\"file.txt\")\n",
        "data = f.read()\n",
        "print(data)\n",
        "f.close()\n",
        "#Run this in VS code"
      ],
      "metadata": {
        "id": "pNj7HxM0Jc1o"
      },
      "execution_count": null,
      "outputs": []
    },
    {
      "cell_type": "markdown",
      "source": [
        "**Chapter 10- OOP**"
      ],
      "metadata": {
        "id": "MtznnTZUpdw3"
      }
    },
    {
      "cell_type": "markdown",
      "source": [
        "Basic Class Implementation\n"
      ],
      "metadata": {
        "id": "N0xJz-h1NV0W"
      }
    },
    {
      "cell_type": "code",
      "source": [
        "class Employee:\n",
        "  name = \"Harry\"\n",
        "  lang = \"Py\"\n",
        "  salary = 1200000\n",
        "\n",
        "harry = Employee()\n",
        "print(harry.name, harry.lang)"
      ],
      "metadata": {
        "colab": {
          "base_uri": "https://localhost:8080/"
        },
        "id": "YnWDPEgSOqCX",
        "outputId": "29591f04-30d1-4bab-88a1-e42bd7f09982"
      },
      "execution_count": null,
      "outputs": [
        {
          "output_type": "stream",
          "name": "stdout",
          "text": [
            "Harry Py\n"
          ]
        }
      ]
    },
    {
      "cell_type": "markdown",
      "source": [
        "Practice Set"
      ],
      "metadata": {
        "id": "r-esRDjDaJU2"
      }
    },
    {
      "cell_type": "markdown",
      "source": [
        "Create a Class of Programmer"
      ],
      "metadata": {
        "id": "QDsx4hHUaMia"
      }
    },
    {
      "cell_type": "code",
      "source": [
        "class Programmer:\n",
        "  def __init__(self, name, lang, salary):\n",
        "    self.name = name\n",
        "    self.lang = lang\n",
        "    self.salary = salary\n",
        "\n",
        "emp1 = Programmer(\"Zabi\", \"Python\", 100000)\n",
        "print(emp1.name, emp1.lang, emp1.salary)\n",
        "\n",
        "emp2 = Programmer(\"Musab\", \"Java\", 200000)\n",
        "print(emp2.name, emp2.lang, emp2.salary)\n",
        "\n",
        "emp3 = Programmer(\"Tom\", \"C++\", 300000)\n",
        "print(emp3.name, emp3.lang, emp3.salary)"
      ],
      "metadata": {
        "colab": {
          "base_uri": "https://localhost:8080/"
        },
        "id": "2mDFx62FaLkc",
        "outputId": "ff8c7507-cbe9-4770-d05e-1865c22b9c59"
      },
      "execution_count": null,
      "outputs": [
        {
          "output_type": "stream",
          "name": "stdout",
          "text": [
            "Zabi Python 100000\n",
            "Musab Java 200000\n",
            "Tom C++ 300000\n"
          ]
        }
      ]
    },
    {
      "cell_type": "markdown",
      "source": [
        "Create a class Calculator to find square, cube and square root of a number"
      ],
      "metadata": {
        "id": "43838wKbasHO"
      }
    },
    {
      "cell_type": "code",
      "source": [
        "class Calculator:\n",
        "  def __init__(self, num):\n",
        "    self.num = num\n",
        "\n",
        "  def square(self):\n",
        "    print(f\"Square of {self.num} is {self.num**2}\")\n",
        "\n",
        "  def cube(self):\n",
        "    print(f\"Cube of {self.num} is {self.num**3}\")\n",
        "\n",
        "  def sqrt(self):\n",
        "    print(f\"Square root of {self.num} is {self.num**0.5}\")\n",
        "\n",
        "  @staticmethod\n",
        "  def Greeting():\n",
        "    print(\"Hello\")\n",
        "\n",
        "num1 = Calculator(10)\n",
        "num1.square()\n",
        "num1.cube()\n",
        "num1.sqrt()"
      ],
      "metadata": {
        "colab": {
          "base_uri": "https://localhost:8080/"
        },
        "id": "go5BVhCha1Nm",
        "outputId": "b0f8334c-ca10-4d74-98cc-7d785babb518"
      },
      "execution_count": null,
      "outputs": [
        {
          "output_type": "stream",
          "name": "stdout",
          "text": [
            "Square of 10 is 100\n",
            "Cube of 10 is 1000\n",
            "Square root of 10 is 3.1622776601683795\n"
          ]
        }
      ]
    },
    {
      "cell_type": "code",
      "source": [
        "class Sample:\n",
        "  a = \"Hello\"\n",
        "\n",
        "eg1 = Sample()\n",
        "eg1.a = \"Hi\"\n",
        "\n",
        "print(eg1.a)"
      ],
      "metadata": {
        "colab": {
          "base_uri": "https://localhost:8080/"
        },
        "id": "SetjHW-heY_E",
        "outputId": "02093936-9140-40fa-bece-803d5677c20a"
      },
      "execution_count": null,
      "outputs": [
        {
          "output_type": "stream",
          "name": "stdout",
          "text": [
            "Hi\n"
          ]
        }
      ]
    },
    {
      "cell_type": "markdown",
      "source": [
        "Ticket booking class"
      ],
      "metadata": {
        "id": "kAtf-tnofw8a"
      }
    },
    {
      "cell_type": "code",
      "source": [
        "from random import randint\n",
        "\n",
        "class Train:\n",
        "  def __init__(self, TrainNo):\n",
        "    self.TrainNo = TrainNo\n",
        "\n",
        "  def book(self, fro, to):\n",
        "    print(f\"The Train No {self.TrainNo} is booked from {fro} to {to}\")\n",
        "  def getStatus(self):\n",
        "    print(f\"Train No {self.TrainNo} is running on time.\")\n",
        "  def getFare(self, fro, to):\n",
        "    print(f\"Fare for Train No {self.TrainNo} from {fro} to {to} is {randint(222,555)}\")\n",
        "\n",
        "t = Train(1234)\n",
        "t.book(\"VNb\", \"Blr\")\n",
        "t.getStatus()\n",
        "t.getFare(\"VNb\", \"Blr\")"
      ],
      "metadata": {
        "colab": {
          "base_uri": "https://localhost:8080/"
        },
        "id": "3GDvQPPFf3PR",
        "outputId": "0d42988a-1db6-4472-cb54-1225126b15c4"
      },
      "execution_count": null,
      "outputs": [
        {
          "output_type": "stream",
          "name": "stdout",
          "text": [
            "The Train No 1234 is booked from VNb to Blr\n",
            "Train No 1234 is running on time.\n",
            "Fare for Train No 1234 from VNb to Blr is 405\n"
          ]
        }
      ]
    },
    {
      "cell_type": "markdown",
      "source": [
        "**Chapter 11 - Inheritance and more**"
      ],
      "metadata": {
        "id": "XerO6keYrfOM"
      }
    },
    {
      "cell_type": "markdown",
      "source": [
        "Example on Multiple Inheritance"
      ],
      "metadata": {
        "id": "EOrAPVqFrpVU"
      }
    },
    {
      "cell_type": "code",
      "source": [
        "class Employee:\n",
        "  company = \"TCS\"\n",
        "\n",
        "  def show(self):\n",
        "    print(\"Hi, this is a Emplyee class function!\")\n",
        "\n",
        "class Coder:\n",
        "  def __init__(self, name):\n",
        "    self.name = name\n",
        "\n",
        "  def lang(self, language):\n",
        "    print(f\"I'm {self.name}, and I'm a {language} developer\")\n",
        "\n",
        "class Programmer(Employee, Coder):\n",
        "  def Experience(self, time):\n",
        "    print(f\"I'm working on this for {time} years\")\n",
        "\n",
        "emp1 = Programmer(\"Zabi\")\n",
        "emp1.show()\n",
        "emp1.lang(\"Python\")\n",
        "emp1.Experience(5)"
      ],
      "metadata": {
        "colab": {
          "base_uri": "https://localhost:8080/"
        },
        "id": "sUTPMoxFr0-y",
        "outputId": "3e6790e8-0ba5-4c03-93ab-aa644e201993"
      },
      "execution_count": null,
      "outputs": [
        {
          "output_type": "stream",
          "name": "stdout",
          "text": [
            "Hi, this is a Emplyee class function!\n",
            "I'm Zabi, and I'm a Python developer\n",
            "I'm working on this for 5 years\n"
          ]
        }
      ]
    },
    {
      "cell_type": "markdown",
      "source": [
        "**Chapter 11 - Practice Set**"
      ],
      "metadata": {
        "id": "mpLDvTyLJ-bp"
      }
    },
    {
      "cell_type": "markdown",
      "source": [
        "1) Create a class (2-D vector) and use it to vrate another class representing a 3-D vector"
      ],
      "metadata": {
        "id": "K_lvTlQDKHMg"
      }
    },
    {
      "cell_type": "code",
      "source": [
        "class TwoDVector:\n",
        "  def __init__(self, x, y):\n",
        "    self.x = x\n",
        "    self.y = y\n",
        "  def show(self):\n",
        "    print(f\"{self.x}x, {self.y}y\")\n",
        "\n",
        "class ThreeDVector(TwoDVector):\n",
        "  def __init__(self, x, y, z):\n",
        "    super().__init__(x, y)\n",
        "    self.z = z\n",
        "  def show(self):\n",
        "    print(f\"{self.x}x, {self.y}y, {self.z}z\")\n",
        "\n",
        "a = ThreeDVector(1,2,3)\n",
        "a.show()"
      ],
      "metadata": {
        "id": "pYMBzjT2KFjc",
        "colab": {
          "base_uri": "https://localhost:8080/"
        },
        "outputId": "9e19866a-b371-474e-ca80-6bee4832f025"
      },
      "execution_count": null,
      "outputs": [
        {
          "output_type": "stream",
          "name": "stdout",
          "text": [
            "1x, 2y, 3z\n"
          ]
        }
      ]
    },
    {
      "cell_type": "markdown",
      "source": [
        "Create a class pets\n",
        "from a class Animals\n",
        "create class dog from pets\n",
        "Add method \"Bark\" to class \"dog\""
      ],
      "metadata": {
        "id": "GO1NYrlRrXmd"
      }
    },
    {
      "cell_type": "code",
      "source": [
        "class Animals:\n",
        "    def __init__(self, type, age, name):  # No @property here\n",
        "        self.name = name\n",
        "        self.type = type\n",
        "        self.age = age\n",
        "\n",
        "    def display(self):\n",
        "        print(f\"It is a {self.name}, which is a {self.type} animal of {self.age} years.\")\n",
        "\n",
        "class Pets(Animals):\n",
        "    def __init__(self, petname, name, type, age):\n",
        "        super().__init__(type, age, name)  # Proper call to base class constructor\n",
        "        self.petname = petname\n",
        "\n",
        "    def show(self):\n",
        "        print(f\"My {self.petname} is a good {self.name}\")\n",
        "\n",
        "class Dog(Pets):\n",
        "    @staticmethod\n",
        "    def bark():\n",
        "        print(\"Dog barks!\")\n",
        "\n",
        "# Test the classes\n",
        "b = Animals(\"Domestic\", 10, \"Dog\")\n",
        "b.display()\n",
        "\n",
        "a = Pets(\"Tara\", \"Dog\", \"Domestic\", 10)\n",
        "a.show()\n",
        "\n",
        "Dog.bark()\n"
      ],
      "metadata": {
        "colab": {
          "base_uri": "https://localhost:8080/"
        },
        "id": "nvBHaC4frvqP",
        "outputId": "bf81b003-643f-4f5d-a7c5-7042d269669f"
      },
      "execution_count": null,
      "outputs": [
        {
          "output_type": "stream",
          "name": "stdout",
          "text": [
            "It is a Dog, which is a Domestic animal of 10 years.\n",
            "My Tara is a good Dog\n",
            "Dog barks!\n"
          ]
        }
      ]
    },
    {
      "cell_type": "code",
      "source": [
        "class Employee:\n",
        "    salary = 234\n",
        "    increment = 20\n",
        "\n",
        "    @property\n",
        "    def salaryAfterIncrement(self):\n",
        "        return (self.salary + self.salary *(self.increment/100))\n",
        "\n",
        "    @salaryAfterIncrement.setter\n",
        "    def salaryAfterIncrement(self, salary):\n",
        "        self.increment = ((salary/self.salary) -1)*100\n",
        "\n",
        "e = Employee()\n",
        "e.salaryAfterIncrement = 280.8\n",
        "print(e.increment)"
      ],
      "metadata": {
        "colab": {
          "base_uri": "https://localhost:8080/"
        },
        "id": "m_gPUbPajLiT",
        "outputId": "76305e07-b252-48f3-cb8b-6c3fd307b9ab"
      },
      "execution_count": null,
      "outputs": [
        {
          "output_type": "stream",
          "name": "stdout",
          "text": [
            "19.999999999999996\n"
          ]
        }
      ]
    },
    {
      "cell_type": "code",
      "source": [
        "class complex:\n",
        "    def __init__(self, i, j, op):\n",
        "        self.i = i\n",
        "        self.j = j\n",
        "        self.op = op\n",
        "\n",
        "    def show(self):\n",
        "        print(f\"Complex number is: {self.i} {self.op} {self.j}j\")\n",
        "\n",
        "c = complex(2,5,\"-\")\n",
        "c.show()"
      ],
      "metadata": {
        "colab": {
          "base_uri": "https://localhost:8080/"
        },
        "id": "gE5NuTYCoB8w",
        "outputId": "cdc78794-e67f-4a75-b4fd-b7929adaeb42"
      },
      "execution_count": null,
      "outputs": [
        {
          "output_type": "stream",
          "name": "stdout",
          "text": [
            "Complex number is: 2 - 5j\n"
          ]
        }
      ]
    },
    {
      "cell_type": "code",
      "source": [
        "class Complex:\n",
        "    def __init__(self, r, i):\n",
        "        self.r = r\n",
        "        self.i = i\n",
        "\n",
        "    def __add__(self, c2):\n",
        "        return Complex(self.r +c2.r, self.i +c2.i)\n",
        "\n",
        "    def __mul__(self, c2):\n",
        "        real_part = self.r * c2.r - self.i * c2.i\n",
        "        imag_part = self.r * c2.i + self.i * c2.r\n",
        "        return Complex(real_part, imag_part)\n",
        "\n",
        "    def __str__(self):\n",
        "        return f\"{self.r} + {self.i}i\"\n",
        "\n",
        "c1 = Complex(1, 2)\n",
        "c2 = Complex(3, 4)\n",
        "print(c1 + c2)\n",
        "print(c1 * c2)"
      ],
      "metadata": {
        "colab": {
          "base_uri": "https://localhost:8080/"
        },
        "id": "luNDvK8krcBP",
        "outputId": "540e5029-54f7-416c-a957-a8c8fe521b0b"
      },
      "execution_count": null,
      "outputs": [
        {
          "output_type": "stream",
          "name": "stdout",
          "text": [
            "4 + 6i\n",
            "-5 + 10i\n"
          ]
        }
      ]
    },
    {
      "cell_type": "markdown",
      "source": [
        "You're doing a great job applying **Object-Oriented Programming (OOP)** in Python — this time with **operator overloading** using `__add__`, `__mul__`, and `__str__`. Let me explain your program **line by line**:\n",
        "\n",
        "---\n",
        "\n",
        "### 🔢 Class: `Complex`\n",
        "\n",
        "You’re defining a class to handle **complex numbers** (of the form `a + bi`).\n",
        "\n",
        "---\n",
        "\n",
        "### 1. **Constructor: `__init__`**\n",
        "\n",
        "```python\n",
        "def __init__(self, r, i):\n",
        "    self.r = r\n",
        "    self.i = i\n",
        "```\n",
        "\n",
        "* This initializes a complex number with:\n",
        "\n",
        "  * `r`: real part\n",
        "  * `i`: imaginary part\n",
        "* Example: `Complex(1, 2)` → 1 + 2i\n",
        "\n",
        "---\n",
        "\n",
        "### 2. **Operator Overloading: `__add__`**\n",
        "\n",
        "```python\n",
        "def __add__(self, c2):\n",
        "    return Complex(self.r + c2.r, self.i + c2.i)\n",
        "```\n",
        "\n",
        "* Allows the use of `+` between two `Complex` objects.\n",
        "* Adds:\n",
        "\n",
        "  * real parts: `self.r + c2.r`\n",
        "  * imaginary parts: `self.i + c2.i`\n",
        "* Returns a **new Complex object** with the sum.\n",
        "\n",
        "---\n",
        "\n",
        "### 3. **Operator Overloading: `__mul__`**\n",
        "\n",
        "```python\n",
        "def __mul__(self, c2):\n",
        "    real_part = self.r * c2.r - self.i * c2.i\n",
        "    imag_part = self.r * c2.i + self.i * c2.r\n",
        "    return Complex(real_part, imag_part)\n",
        "```\n",
        "\n",
        "* Allows the use of `*` between two `Complex` objects.\n",
        "* Follows the formula for complex multiplication:\n",
        "\n",
        "  $$\n",
        "  (a + bi)(c + di) = (ac - bd) + (ad + bc)i\n",
        "  $$\n",
        "* Returns a new `Complex` object with the product.\n",
        "\n",
        "---\n",
        "\n",
        "### 4. **String Representation: `__str__`**\n",
        "\n",
        "```python\n",
        "def __str__(self):\n",
        "    return f\"{self.r} + {self.i}i\"\n",
        "```\n",
        "\n",
        "* This makes `print(c1)` output something readable like `1 + 2i`.\n",
        "\n",
        "---\n",
        "\n",
        "### 5. **Testing the Class**\n",
        "\n",
        "```python\n",
        "c1 = Complex(1, 2)\n",
        "c2 = Complex(3, 4)\n",
        "print(c1 + c2)\n",
        "print(c1 * c2)\n",
        "```\n",
        "\n",
        "#### Let's break down:\n",
        "\n",
        "**Addition:**\n",
        "\n",
        "```python\n",
        "(1 + 2i) + (3 + 4i) = (1+3) + (2+4)i = 4 + 6i\n",
        "```\n",
        "\n",
        "**Multiplication:**\n",
        "\n",
        "```python\n",
        "(1 + 2i) * (3 + 4i)\n",
        "= 1*3 - 2*4 + (1*4 + 2*3)i\n",
        "= 3 - 8 + (4 + 6)i\n",
        "= -5 + 10i\n",
        "```\n",
        "\n",
        "### ✅ Output:\n",
        "\n",
        "```\n",
        "4 + 6i\n",
        "-5 + 10i\n",
        "```\n",
        "\n",
        "---\n",
        "\n",
        "### 🔁 Summary of Key Concepts Used:\n",
        "\n",
        "| Concept               | Usage in Code                                     |\n",
        "| --------------------- | ------------------------------------------------- |\n",
        "| Class & Objects       | `Complex` class                                   |\n",
        "| Constructor           | `__init__`                                        |\n",
        "| Operator Overloading  | `__add__`, `__mul__`                              |\n",
        "| String Representation | `__str__`                                         |\n",
        "| Abstraction           | Hiding how addition/multiplication is implemented |\n",
        "\n",
        "---\n",
        "\n",
        "Would you like me to give you a small challenge to practice this?\n"
      ],
      "metadata": {
        "id": "yB8fnZQTwAGL"
      }
    },
    {
      "cell_type": "code",
      "source": [
        "class Vector:\n",
        "    def __init__(self, x, y, z):\n",
        "        self.x = x\n",
        "        self.y = y\n",
        "        self.z = z\n",
        "\n",
        "    def __add__(self, other):\n",
        "        result = Vector(self.x + other.x, self.y + other.y, self.z +other.z)\n",
        "        return result\n",
        "\n",
        "    def __mul__(self, other):\n",
        "        result = self.x * other.x + self.y * other.y +self.z *other.z\n",
        "        return result\n",
        "\n",
        "    def __str__(self):\n",
        "        return f\"Vector({self.x}, {self.y}, {self.z})\"\n",
        "\n",
        "v1 = Vector(1, 2, 3)\n",
        "v2 = Vector(4, 5 ,6)\n",
        "v3 = Vector(7, 8, 9)\n",
        "\n",
        "print(v1 + v2)\n",
        "print(v1 * v2)\n",
        "\n",
        "print(v1 + v3)\n",
        "print(v1 * v3)"
      ],
      "metadata": {
        "colab": {
          "base_uri": "https://localhost:8080/"
        },
        "id": "u1i3n0ZqwF9h",
        "outputId": "8858964e-a210-46f6-d75c-b0dbe602941d"
      },
      "execution_count": null,
      "outputs": [
        {
          "output_type": "stream",
          "name": "stdout",
          "text": [
            "Vector(5, 7, 9)\n",
            "32\n",
            "Vector(8, 10, 12)\n",
            "50\n"
          ]
        }
      ]
    },
    {
      "cell_type": "markdown",
      "source": [
        "Great job! 🎯 You’ve created a solid implementation of a **3D vector class** using **operator overloading** in Python. Let’s walk through and explain what your program is doing:\n",
        "\n",
        "---\n",
        "\n",
        "## ✅ Your Code Breakdown:\n",
        "\n",
        "### 🔸 1. `__init__` – Constructor\n",
        "\n",
        "```python\n",
        "def __init__(self, x, y, z):\n",
        "    self.x = x\n",
        "    self.y = y\n",
        "    self.z = z\n",
        "```\n",
        "\n",
        "* Initializes a `Vector` object with 3 components: `x`, `y`, and `z`.\n",
        "\n",
        "---\n",
        "\n",
        "### 🔸 2. `__add__` – Vector Addition\n",
        "\n",
        "```python\n",
        "def __add__(self, other):\n",
        "    result = Vector(self.x + other.x, self.y + other.y, self.z + other.z)\n",
        "    return result\n",
        "```\n",
        "\n",
        "* Adds two vectors **component-wise**:\n",
        "\n",
        "  $$\n",
        "  (x_1 + x_2, y_1 + y_2, z_1 + z_2)\n",
        "  $$\n",
        "* Returns a new `Vector` instance.\n",
        "\n",
        "---\n",
        "\n",
        "### 🔸 3. `__mul__` – Dot Product\n",
        "\n",
        "```python\n",
        "def __mul__(self, other):\n",
        "    result = self.x * other.x + self.y * other.y + self.z * other.z\n",
        "    return result\n",
        "```\n",
        "\n",
        "* Performs **dot product**:\n",
        "\n",
        "  $$\n",
        "  x_1 \\cdot x_2 + y_1 \\cdot y_2 + z_1 \\cdot z_2\n",
        "  $$\n",
        "* Returns a **scalar (number)**.\n",
        "\n",
        "---\n",
        "\n",
        "### 🔸 4. `__str__` – String Representation\n",
        "\n",
        "```python\n",
        "def __str__(self):\n",
        "    return f\"Vector({self.x}, {self.y}, {self.z})\"\n",
        "```\n",
        "\n",
        "* Allows `print(vector)` to output a clean string like `Vector(1, 2, 3)` instead of an object reference.\n",
        "\n",
        "---\n",
        "\n",
        "### 🧪 Test Output:\n",
        "\n",
        "#### Vector Addition:\n",
        "\n",
        "```python\n",
        "v1 + v2 = Vector(1+4, 2+5, 3+6) = Vector(5, 7, 9)\n",
        "v1 + v3 = Vector(1+7, 2+8, 3+9) = Vector(8, 10, 12)\n",
        "```\n",
        "\n",
        "#### Dot Product:\n",
        "\n",
        "```python\n",
        "v1 * v2 = 1*4 + 2*5 + 3*6 = 4 + 10 + 18 = 32\n",
        "v1 * v3 = 1*7 + 2*8 + 3*9 = 7 + 16 + 27 = 50\n",
        "```\n",
        "\n",
        "---\n",
        "\n",
        "### ✅ Final Output:\n",
        "\n",
        "```\n",
        "Vector(5, 7, 9)\n",
        "32\n",
        "Vector(8, 10, 12)\n",
        "50\n",
        "```\n",
        "\n",
        "---\n",
        "\n",
        "## 🌟 Concepts You Used\n",
        "\n",
        "| Concept              | Usage in Code                |\n",
        "| -------------------- | ---------------------------- |\n",
        "| OOP                  | `Vector` class and instances |\n",
        "| Constructor          | `__init__`                   |\n",
        "| Operator Overloading | `__add__`, `__mul__`         |\n",
        "| Encapsulation        | Attributes `x, y, z`         |\n",
        "| Dot Product Logic    | `__mul__`                    |\n",
        "| Code Reusability     | Object-based design          |\n",
        "\n",
        "---\n",
        "\n",
        "### 💡 Want to Try More?\n",
        "\n",
        "Here's a small **challenge**:\n",
        "\n",
        "> Add a method to compute the **cross product** of two vectors:\n",
        "\n",
        "```python\n",
        "def cross(self, other):\n",
        "    # return Vector(...)\n",
        "```\n",
        "\n",
        "Would you like help implementing that?\n"
      ],
      "metadata": {
        "id": "6Yobc5ID6Om9"
      }
    },
    {
      "cell_type": "code",
      "source": [
        "class ComplexNo:\n",
        "    def __init__(self, x, y, z):\n",
        "        self.x = x\n",
        "        self.y = y\n",
        "        self.z = z\n",
        "\n",
        "    def show(self):\n",
        "        print(f\"{self.x}i + {self.y}j + {self.z}k\")\n",
        "\n",
        "a = ComplexNo(1, 2, 3)\n",
        "a.show()"
      ],
      "metadata": {
        "colab": {
          "base_uri": "https://localhost:8080/"
        },
        "id": "Re01ZI7t5oTM",
        "outputId": "1ad19498-3d50-453f-d17f-c74f245b8805"
      },
      "execution_count": null,
      "outputs": [
        {
          "output_type": "stream",
          "name": "stdout",
          "text": [
            "1i + 2j + 3k\n"
          ]
        }
      ]
    },
    {
      "cell_type": "markdown",
      "source": [
        "To find length of a vector"
      ],
      "metadata": {
        "id": "Eide6wDp7t8x"
      }
    },
    {
      "cell_type": "code",
      "source": [
        "class V:\n",
        "    def __init__(self, l):\n",
        "        self.l = l\n",
        "\n",
        "    def __len__(self):\n",
        "        return len(self.l)\n",
        "\n",
        "v1 = V([1, 2, 3])\n",
        "print(len(v1))"
      ],
      "metadata": {
        "colab": {
          "base_uri": "https://localhost:8080/"
        },
        "id": "-WcMP2TM7xPk",
        "outputId": "bc95bf2b-f34e-4100-86db-c82490a8fa15"
      },
      "execution_count": null,
      "outputs": [
        {
          "output_type": "stream",
          "name": "stdout",
          "text": [
            "3\n"
          ]
        }
      ]
    },
    {
      "cell_type": "markdown",
      "source": [
        "You're absolutely right with this one! ✅\n",
        "Let’s walk through what you’ve done in this code:\n",
        "\n",
        "---\n",
        "\n",
        "### 🔍 Code Explanation\n",
        "\n",
        "```python\n",
        "class Vector:\n",
        "    def __init__(self, l):\n",
        "        self.l = l\n",
        "```\n",
        "\n",
        "* You define a class `Vector` that takes a list `l` (e.g., `[1, 2, 3]`) and stores it as an instance variable.\n",
        "\n",
        "---\n",
        "\n",
        "```python\n",
        "def __len__(self):\n",
        "    return len(self.l)\n",
        "```\n",
        "\n",
        "* This overrides Python’s built-in `len()` function for your custom class.\n",
        "* So when you call `len(v1)`, it returns the length of the list inside `v1.l`.\n",
        "\n",
        "---\n",
        "\n",
        "### ✅ Test Code\n",
        "\n",
        "```python\n",
        "v1 = Vector([1, 2, 3])\n",
        "print(len(v1))\n",
        "```\n",
        "\n",
        "### 🧾 Output:\n",
        "\n",
        "```\n",
        "3\n",
        "```\n",
        "\n",
        "✅ This is **correct and clean**.\n",
        "\n",
        "---\n",
        "\n",
        "### 💡 Bonus Tip:\n",
        "\n",
        "You can also add other overloads like:\n",
        "\n",
        "* `__getitem__` to access elements (`v1[0]`)\n",
        "* `__str__` for pretty printing (`print(v1)`)\n",
        "* `__iter__` to make your object iterable in a loop\n",
        "\n",
        "Want help adding those too?\n"
      ],
      "metadata": {
        "id": "jckSpfKF8Ryk"
      }
    },
    {
      "cell_type": "markdown",
      "source": [
        "Game 2 : Guess Random Number"
      ],
      "metadata": {
        "id": "WLOPUTP8Rwk0"
      }
    },
    {
      "cell_type": "code",
      "source": [
        "import random\n",
        "n = random.randint(1, 100)\n",
        "a = -1\n",
        "guesses = 1\n",
        "while(a != n):\n",
        "    a = int(input(\"Guess the number: \"))\n",
        "    if(a > n):\n",
        "        print(\"Lower number please\")\n",
        "        guesses += 1\n",
        "    elif(a < n):\n",
        "        print(\"Higher number please\")\n",
        "        guesses += 1\n",
        "print(f\" You have guessed the numberr {n} correctly in {guesses} attempts\")"
      ],
      "metadata": {
        "colab": {
          "base_uri": "https://localhost:8080/"
        },
        "id": "ez3Djo9ARvbw",
        "outputId": "26cff208-3139-4050-bdab-9f26c5b826a2"
      },
      "execution_count": null,
      "outputs": [
        {
          "output_type": "stream",
          "name": "stdout",
          "text": [
            "Guess the number: 6\n",
            "Higher number please\n",
            "Guess the number: 56\n",
            "Lower number please\n",
            "Guess the number: 40\n",
            "Lower number please\n",
            "Guess the number: 30\n",
            "Lower number please\n",
            "Guess the number: 20\n",
            "Higher number please\n",
            "Guess the number: 25\n",
            "Lower number please\n",
            "Guess the number: 23\n",
            " You have guessed the numberr 23 correctly in 7 attempts\n"
          ]
        }
      ]
    },
    {
      "cell_type": "markdown",
      "source": [
        "**Chapter 12 - Advanced Pythn concepts**\n",
        "New Added Features"
      ],
      "metadata": {
        "id": "vJ22pKfb5t4H"
      }
    },
    {
      "cell_type": "markdown",
      "source": [
        "Using Walrus Operator (added in python 3.8)"
      ],
      "metadata": {
        "id": "ut8OeYff5qjf"
      }
    },
    {
      "cell_type": "code",
      "source": [
        "if (n := len([1, 2, 3, 4, 5])) > 3:\n",
        "    print(f\"Length of {n} is greater than 3\")"
      ],
      "metadata": {
        "colab": {
          "base_uri": "https://localhost:8080/"
        },
        "id": "AMt6fBRn5-8g",
        "outputId": "5c609f67-4a06-4d24-8342-1f837dcbd949"
      },
      "execution_count": null,
      "outputs": [
        {
          "output_type": "stream",
          "name": "stdout",
          "text": [
            "Length of 5 is greater than 3\n"
          ]
        }
      ]
    },
    {
      "cell_type": "markdown",
      "source": [
        "Great! Let’s break it down into two parts as you asked:\n",
        "\n",
        "---\n",
        "\n",
        "## 🦦 1. **Walrus Operator (`:=`) in Python**\n",
        "\n",
        "The **walrus operator** (`:=`) is used for **assignment expressions** — it lets you assign a value to a variable **within an expression**.\n",
        "\n",
        "### ✅ Use Case:\n",
        "\n",
        "Before Python 3.8, you’d need:\n",
        "\n",
        "```python\n",
        "value = input(\"Enter something: \")\n",
        "while value != \"exit\":\n",
        "    print(f\"You entered: {value}\")\n",
        "    value = input(\"Enter something: \")\n",
        "```\n",
        "\n",
        "With the **walrus operator**:\n",
        "\n",
        "```python\n",
        "while (value := input(\"Enter something: \")) != \"exit\":\n",
        "    print(f\"You entered: {value}\")\n",
        "```\n",
        "\n",
        "### 💡 Use Cases:\n",
        "\n",
        "* Shorten `while`, `if`, and list comprehensions\n",
        "* Reduce redundancy when you need to **use a value and test it** in one step\n",
        "\n",
        "---\n",
        "\n",
        "## 🧾 2. **Type Definitions and Type Hints**\n",
        "\n",
        "Type hints help you define **what type of data** your variables, function arguments, and return values should be. This improves **code readability** and helps with **debugging and IDE suggestions**.\n",
        "\n",
        "### ✅ Example:\n",
        "\n",
        "```python\n",
        "def add(x: int, y: int) -> int:\n",
        "    return x + y\n",
        "\n",
        "def greet(name: str) -> None:\n",
        "    print(f\"Hello, {name}\")\n",
        "```\n",
        "\n",
        "---\n",
        "\n",
        "### 🧰 Type Definitions in Variables:\n",
        "\n",
        "```python\n",
        "age: int = 21\n",
        "pi: float = 3.14\n",
        "names: list[str] = [\"Zabi\", \"Ali\", \"Sara\"]\n",
        "user: dict[str, int] = {\"id\": 101}\n",
        "```\n",
        "\n",
        "### ✅ Type Hints in Classes and Methods:\n",
        "\n",
        "```python\n",
        "class Vector:\n",
        "    def __init__(self, x: float, y: float, z: float) -> None:\n",
        "        self.x = x\n",
        "        self.y = y\n",
        "        self.z = z\n",
        "\n",
        "    def magnitude(self) -> float:\n",
        "        return (self.x**2 + self.y**2 + self.z**2) ** 0.5\n",
        "```\n",
        "\n",
        "---\n",
        "\n",
        "### 💡 Advanced: Using `typing` Module\n",
        "\n",
        "```python\n",
        "from typing import List, Dict, Union\n",
        "\n",
        "def process_scores(scores: List[int]) -> float:\n",
        "    return sum(scores) / len(scores)\n",
        "```\n",
        "\n",
        "---\n",
        "\n",
        "### ✅ Summary Table:\n",
        "\n",
        "| Concept           | Syntax / Example                   |\n",
        "| ----------------- | ---------------------------------- |\n",
        "| Walrus operator   | `while (x := input()) != \"q\": ...` |\n",
        "| Function hint     | `def foo(x: int) -> str:`          |\n",
        "| Variable hint     | `score: float = 92.5`              |\n",
        "| List/Dict hint    | `List[int]`, `Dict[str, int]`      |\n",
        "| Class method hint | `def method(self) -> None:`        |\n",
        "\n",
        "---\n",
        "\n",
        "Would you like practice questions on walrus operator or type hinting?\n"
      ],
      "metadata": {
        "id": "jkJ9nlRH7d9s"
      }
    },
    {
      "cell_type": "code",
      "source": [
        "def sum(a:int, b:int) -> int:\n",
        "    return a+b\n",
        "\n",
        "add = sum(10, 20)\n",
        "print(add)"
      ],
      "metadata": {
        "colab": {
          "base_uri": "https://localhost:8080/"
        },
        "id": "aYIs-6Q1739h",
        "outputId": "90358038-69c4-4c35-a2b6-5080aeaa7bc7"
      },
      "execution_count": null,
      "outputs": [
        {
          "output_type": "stream",
          "name": "stdout",
          "text": [
            "30\n"
          ]
        }
      ]
    },
    {
      "cell_type": "markdown",
      "source": [
        "Match Case (Python 3.10)"
      ],
      "metadata": {
        "id": "boSNIv6F8m03"
      }
    },
    {
      "cell_type": "code",
      "source": [
        "def status(a):\n",
        "    match a:\n",
        "        case 10:\n",
        "            return \"10\"\n",
        "        case 20:\n",
        "            return \"20\"\n",
        "        case 30:\n",
        "            return \"30\"\n",
        "        case _:\n",
        "            return \"Tata\"\n",
        "print(status(40))"
      ],
      "metadata": {
        "colab": {
          "base_uri": "https://localhost:8080/"
        },
        "id": "ACyv-8sN8r02",
        "outputId": "4a0b22f4-db04-4240-eb99-759ad30cff53"
      },
      "execution_count": null,
      "outputs": [
        {
          "output_type": "stream",
          "name": "stdout",
          "text": [
            "Tata\n"
          ]
        }
      ]
    },
    {
      "cell_type": "markdown",
      "source": [
        "Dictionary Merge and Update Opertors"
      ],
      "metadata": {
        "id": "HsAKDDgU9s9p"
      }
    },
    {
      "cell_type": "markdown",
      "source": [
        "Merge (|) and Update (|=)"
      ],
      "metadata": {
        "id": "zxH9iL2p9yiw"
      }
    },
    {
      "cell_type": "markdown",
      "source": [
        "Sure, Zabi! Here's a simple and clear guide on **Dictionary Merge and Update Operators** in Python, with key points, examples, and practice questions.\n",
        "\n",
        "---\n",
        "\n",
        "## 📘 **Dictionary Merge and Update in Python**\n",
        "\n",
        "### ✅ 1. **Using `update()` Method**\n",
        "\n",
        "* Merges one dictionary into another.\n",
        "* Updates the existing keys or adds new ones.\n",
        "* Original dictionary gets modified.\n",
        "\n",
        "```python\n",
        "d1 = {'a': 1, 'b': 2}\n",
        "d2 = {'b': 3, 'c': 4}\n",
        "d1.update(d2)\n",
        "print(d1)  # {'a': 1, 'b': 3, 'c': 4}\n",
        "```\n",
        "\n",
        "---\n",
        "\n",
        "### ✅ 2. **Using Merge (`|`) Operator** *(Python 3.9+)*\n",
        "\n",
        "* Returns a **new merged dictionary**.\n",
        "* Doesn’t modify the original ones.\n",
        "\n",
        "```python\n",
        "d1 = {'x': 1, 'y': 2}\n",
        "d2 = {'y': 100, 'z': 200}\n",
        "d3 = d1 | d2\n",
        "print(d3)  # {'x': 1, 'y': 100, 'z': 200}\n",
        "```\n",
        "\n",
        "---\n",
        "\n",
        "### ✅ 3. **Using Update Merge (`|=`) Operator** *(Python 3.9+)*\n",
        "\n",
        "* Merges `d2` into `d1` and updates `d1` in-place.\n",
        "\n",
        "```python\n",
        "d1 = {'name': 'Zabi'}\n",
        "d2 = {'age': 21}\n",
        "d1 |= d2\n",
        "print(d1)  # {'name': 'Zabi', 'age': 21}\n",
        "```\n",
        "\n",
        "---\n",
        "\n",
        "## 🔑 **Important Points**\n",
        "\n",
        "\\| Feature                | `update()` | `|` Operator | `|=` Operator |\n",
        "\\|------------------------|------------|--------------|----------------|\n",
        "\\| Modifies original dict | ✅ Yes     | ❌ No         | ✅ Yes         |\n",
        "\\| Returns new dict       | ❌ No      | ✅ Yes        | ❌ No          |\n",
        "\\| Available from version | All Python | Python 3.9+   | Python 3.9+    |\n",
        "\n",
        "---\n",
        "\n",
        "## 🧪 Example\n",
        "\n",
        "```python\n",
        "user1 = {'id': 101, 'name': 'Zabi'}\n",
        "user2 = {'name': 'Zabir', 'age': 22}\n",
        "\n",
        "# Merge using |\n",
        "merged = user1 | user2\n",
        "print(merged)  # {'id': 101, 'name': 'Zabir', 'age': 22}\n",
        "\n",
        "# Update using update()\n",
        "user1.update(user2)\n",
        "print(user1)  # {'id': 101, 'name': 'Zabir', 'age': 22}\n",
        "```\n",
        "\n",
        "---\n",
        "\n",
        "## 🧩 Practice Questions\n",
        "\n",
        "### 📝 Q1:\n",
        "\n",
        "```python\n",
        "d1 = {'a': 10, 'b': 20}\n",
        "d2 = {'b': 50, 'c': 30}\n",
        "# Merge using | operator\n",
        "```\n",
        "\n",
        "➡️ What will be the result?\n",
        "\n",
        "---\n",
        "\n",
        "### 📝 Q2:\n",
        "\n",
        "```python\n",
        "info = {'name': 'Zara'}\n",
        "extra = {'age': 19, 'name': 'Zabi'}\n",
        "\n",
        "# Use update() to merge\n",
        "```\n",
        "\n",
        "➡️ What will be the final value of `info`?\n",
        "\n",
        "---\n",
        "\n",
        "Would you like the answers to these or more practice sets?\n"
      ],
      "metadata": {
        "id": "g063WnB1-u1X"
      }
    },
    {
      "cell_type": "code",
      "source": [
        "d1 = {'a': 10, 'b': 20}\n",
        "d2 = {'b': 50, 'c': 30}\n",
        "# Merge using | operator\n",
        "\n",
        "d3 = d1|d2\n",
        "print(d3)"
      ],
      "metadata": {
        "colab": {
          "base_uri": "https://localhost:8080/"
        },
        "id": "nWpOPorQ9wrd",
        "outputId": "14f95b9f-6dee-4af9-a75d-178858af291a"
      },
      "execution_count": null,
      "outputs": [
        {
          "output_type": "stream",
          "name": "stdout",
          "text": [
            "{'a': 10, 'b': 50, 'c': 30}\n"
          ]
        }
      ]
    },
    {
      "cell_type": "code",
      "source": [
        "info = {'name': 'Zara'}\n",
        "extra = {'age': 19, 'name': 'Zabi'}\n",
        "\n",
        "# Use update() to merge\n",
        "print(\"Before merge\")\n",
        "print(info,extra)\n",
        "print(\"After merge\")\n",
        "info.update(extra)\n",
        "print(info)"
      ],
      "metadata": {
        "colab": {
          "base_uri": "https://localhost:8080/"
        },
        "id": "tddktfuT_Ads",
        "outputId": "97b55867-1b4d-4a62-a758-4eed3b4ca776"
      },
      "execution_count": null,
      "outputs": [
        {
          "output_type": "stream",
          "name": "stdout",
          "text": [
            "Before merge\n",
            "{'name': 'Zara'} {'age': 19, 'name': 'Zabi'}\n",
            "After merge\n",
            "{'name': 'Zabi', 'age': 19}\n"
          ]
        }
      ]
    },
    {
      "cell_type": "code",
      "source": [
        "info = {'name': 'Zara'}\n",
        "extra = {'age': 19, 'name': 'Zabi'}\n",
        "\n",
        "info |= extra\n",
        "print(info)"
      ],
      "metadata": {
        "colab": {
          "base_uri": "https://localhost:8080/"
        },
        "id": "7mgR1phu_oxU",
        "outputId": "e82dfae8-1a3b-4c5a-f87b-da296c9957a8"
      },
      "execution_count": null,
      "outputs": [
        {
          "output_type": "stream",
          "name": "stdout",
          "text": [
            "{'name': 'Zabi', 'age': 19}\n"
          ]
        }
      ]
    },
    {
      "cell_type": "markdown",
      "source": [
        "Exception Handling"
      ],
      "metadata": {
        "id": "KEhUnMjJDwao"
      }
    },
    {
      "cell_type": "code",
      "source": [
        "try:\n",
        "    a = int(input(\"Enter a num: \"))\n",
        "    print(a)\n",
        "except Exception as e:\n",
        "    print(e)\n",
        "print(\"End of Code\")"
      ],
      "metadata": {
        "colab": {
          "base_uri": "https://localhost:8080/"
        },
        "id": "6W-zvzGwD0s9",
        "outputId": "e7385b92-4788-4224-90d9-14108d80ef7f"
      },
      "execution_count": null,
      "outputs": [
        {
          "output_type": "stream",
          "name": "stdout",
          "text": [
            "Enter a num: hi\n",
            "invalid literal for int() with base 10: 'hi'\n",
            "End of Code\n"
          ]
        }
      ]
    },
    {
      "cell_type": "markdown",
      "source": [
        "Raising Exceptions"
      ],
      "metadata": {
        "id": "A37kr120ExKO"
      }
    },
    {
      "cell_type": "code",
      "source": [
        "a = int(input(\"Enter 1 number:\"))\n",
        "b = int(input(\"Enter 2 number:\"))\n",
        "\n",
        "if(b == 0):\n",
        "    raise ZeroDivisionError(\"Hey, Division by zero is not possible!!!\")\n",
        "else:\n",
        "    print(f\"{a}/{b} is {a/b}\")"
      ],
      "metadata": {
        "colab": {
          "base_uri": "https://localhost:8080/"
        },
        "id": "dvUqtxD_Ezzd",
        "outputId": "be53a202-fa9c-4da7-9f62-04c76a8e6d9a"
      },
      "execution_count": null,
      "outputs": [
        {
          "output_type": "stream",
          "name": "stdout",
          "text": [
            "Enter 1 number:30\n",
            "Enter 2 number:2\n",
            "30/2 is 15.0\n"
          ]
        }
      ]
    },
    {
      "cell_type": "markdown",
      "source": [
        "Try with finally"
      ],
      "metadata": {
        "id": "vaYfo0k1JkIH"
      }
    },
    {
      "cell_type": "code",
      "source": [
        "def main():\n",
        "    try:\n",
        "        a = int(input(\"Enter a: \"))\n",
        "        return\n",
        "    except Exception as e:\n",
        "        print(e)\n",
        "        return\n",
        "    finally:\n",
        "        print(\"Finally part...\")\n",
        "main( )\n",
        "\n"
      ],
      "metadata": {
        "colab": {
          "base_uri": "https://localhost:8080/"
        },
        "id": "o8SNr0BxJjwX",
        "outputId": "0f8cfa62-b5f3-4f3f-9b7f-4a75fcd24b2e"
      },
      "execution_count": null,
      "outputs": [
        {
          "output_type": "stream",
          "name": "stdout",
          "text": [
            "Enter a: a\n",
            "invalid literal for int() with base 10: 'a'\n",
            "Finally part...\n"
          ]
        }
      ]
    },
    {
      "cell_type": "markdown",
      "source": [
        "Enumerate in python"
      ],
      "metadata": {
        "id": "ncPkDpWETU8q"
      }
    },
    {
      "cell_type": "markdown",
      "source": [
        "You're absolutely right to ask this — it's an excellent question that shows you're thinking deeper about how Python works! Let's break it down in the **simplest way possible**.\n",
        "\n",
        "---\n",
        "\n",
        "## 🧠 What is `enumerate()` in Python?\n",
        "\n",
        "The **`enumerate()` function** adds a **counter (index)** to an **iterable** like a list, tuple, or string.\n",
        "It returns a **special object** that contains pairs of:\n",
        "\n",
        "```\n",
        "(index, value)\n",
        "```\n",
        "\n",
        "---\n",
        "\n",
        "### 🛠️ Basic Syntax:\n",
        "\n",
        "```python\n",
        "enumerate(iterable, start=0)\n",
        "```\n",
        "\n",
        "* `iterable`: list, tuple, string, etc.\n",
        "* `start`: index to start counting from (default is 0)\n",
        "\n",
        "---\n",
        "\n",
        "### 🧪 Example:\n",
        "\n",
        "```python\n",
        "l = ['a', 'b', 'c']\n",
        "for index, value in enumerate(l):\n",
        "    print(index, value)\n",
        "```\n",
        "\n",
        "### 🔍 Output:\n",
        "\n",
        "```\n",
        "0 a\n",
        "1 b\n",
        "2 c\n",
        "```\n",
        "\n",
        "Here, `enumerate(l)` returns:\n",
        "\n",
        "```python\n",
        "[(0, 'a'), (1, 'b'), (2, 'c')]\n",
        "```\n",
        "\n",
        "Then, `for index, value in ...` unpacks each `(index, value)` pair from that list.\n",
        "\n",
        "---\n",
        "\n",
        "### 🧠 Your Exact Question Answered:\n",
        "\n",
        "> **\"How does `enumerate` know that I'm calling `index` and `item`?\"**\n",
        "\n",
        "➡️ It **doesn’t know**!\n",
        "`index` and `item` are **just variable names** you chose.\n",
        "\n",
        "Python looks at the output of `enumerate(l)` which is a series of `(index, value)` pairs, like:\n",
        "\n",
        "```python\n",
        "(0, 3)\n",
        "(1, 4)\n",
        "(2, 5)\n",
        "(3, 6)\n",
        "```\n",
        "\n",
        "Then, when you write:\n",
        "\n",
        "```python\n",
        "for index, item in enumerate(l):\n",
        "```\n",
        "\n",
        "You're telling Python:\n",
        "\n",
        "* \"Take each pair and unpack it: assign the first thing to `index`, second to `item`.\"\n",
        "\n",
        "You could rename them to anything:\n",
        "\n",
        "```python\n",
        "for i, val in enumerate(l):\n",
        "    print(i, val)\n",
        "```\n",
        "\n",
        "Still works the same.\n",
        "\n",
        "---\n",
        "\n",
        "## 🔄 How is it Different from Just a Loop?\n",
        "\n",
        "Without `enumerate()`:\n",
        "\n",
        "```python\n",
        "for i in range(len(l)):\n",
        "    print(i, l[i])\n",
        "```\n",
        "\n",
        "With `enumerate()`:\n",
        "\n",
        "```python\n",
        "for i, item in enumerate(l):\n",
        "    print(i, item)\n",
        "```\n",
        "\n",
        "➡️ Cleaner, more Pythonic, and **avoids indexing errors**.\n",
        "\n",
        "---\n",
        "\n",
        "## 💡 Bonus: Using `start` Argument\n",
        "\n",
        "```python\n",
        "for i, val in enumerate(['x', 'y', 'z'], start=1):\n",
        "    print(i, val)\n",
        "```\n",
        "\n",
        "**Output:**\n",
        "\n",
        "```\n",
        "1 x\n",
        "2 y\n",
        "3 z\n",
        "```\n",
        "\n",
        "---\n",
        "\n",
        "## ✅ Summary\n",
        "\n",
        "| Concept         | Meaning                                  |\n",
        "| --------------- | ---------------------------------------- |\n",
        "| `enumerate()`   | Adds index to iterable                   |\n",
        "| Output          | `(index, value)` pairs                   |\n",
        "| `index`, `item` | Just variable names you choose           |\n",
        "| Cleaner?        | YES. Better than using `range(len(...))` |\n",
        "\n",
        "---\n",
        "\n",
        "Would you like a small challenge or a visual illustration of how `enumerate` works?\n"
      ],
      "metadata": {
        "id": "5x0t0_GEUj2-"
      }
    },
    {
      "cell_type": "code",
      "source": [
        "l = [3, 4, 5 ,6]\n",
        "\n",
        "for i, item in enumerate(l,1):\n",
        "    print(i, item)"
      ],
      "metadata": {
        "colab": {
          "base_uri": "https://localhost:8080/"
        },
        "id": "h1oFfHx8TYDt",
        "outputId": "9fe496d5-51a0-4e73-9b34-ba13e8ae9577"
      },
      "execution_count": null,
      "outputs": [
        {
          "output_type": "stream",
          "name": "stdout",
          "text": [
            "1 3\n",
            "2 4\n",
            "3 5\n",
            "4 6\n"
          ]
        }
      ]
    },
    {
      "cell_type": "markdown",
      "source": [
        "**Chapter 12 - Practice set**"
      ],
      "metadata": {
        "id": "Hk9yEtXBXQJE"
      }
    },
    {
      "cell_type": "markdown",
      "source": [
        "program to open 3 files...\n",
        "\n",
        "If any of the files don't open, print a message without exiting the program\n",
        "\n",
        "printed prompting the same\n",
        "\n"
      ],
      "metadata": {
        "id": "IEN8_ZjbXVeD"
      }
    },
    {
      "cell_type": "markdown",
      "source": [
        "above program was done in vs code\n"
      ],
      "metadata": {
        "id": "7jSYsqemr11S"
      }
    },
    {
      "cell_type": "markdown",
      "source": [
        "printing third, fifth and 7th element in a list using enumerate()"
      ],
      "metadata": {
        "id": "SwmeEY4ar5ar"
      }
    },
    {
      "cell_type": "code",
      "source": [
        "l = [10, 20, 30, 40, 50, 60, 70, 80, 90]\n",
        "\n",
        "for i, item in enumerate(l):\n",
        "    print(i, item)"
      ],
      "metadata": {
        "colab": {
          "base_uri": "https://localhost:8080/"
        },
        "id": "wbVDYC5PsDaT",
        "outputId": "ecb8decb-ebd0-4a8d-88b3-aec037dd3ea2"
      },
      "execution_count": null,
      "outputs": [
        {
          "output_type": "stream",
          "name": "stdout",
          "text": [
            "0 10\n",
            "1 20\n",
            "2 30\n",
            "3 40\n",
            "4 50\n",
            "5 60\n",
            "6 70\n",
            "7 80\n",
            "8 90\n"
          ]
        }
      ]
    },
    {
      "cell_type": "code",
      "source": [
        "l = [10, 20, 30, 40, 50, 60, 70, 80, 90]\n",
        "for i, item in enumerate(l):\n",
        "    if(i > 1 and i%2 == 0):\n",
        "        print(i+1, item)\n",
        "    else:\n",
        "        pass"
      ],
      "metadata": {
        "colab": {
          "base_uri": "https://localhost:8080/"
        },
        "id": "Nykhzi0Vs0JD",
        "outputId": "242048ad-6227-47e0-db34-d39c5f93bfbd"
      },
      "execution_count": null,
      "outputs": [
        {
          "output_type": "stream",
          "name": "stdout",
          "text": [
            "3 30\n",
            "5 50\n",
            "7 70\n",
            "9 90\n"
          ]
        }
      ]
    },
    {
      "cell_type": "markdown",
      "source": [
        "3. Write a list comprehension to print a list which contains the multiplication table of a\n",
        "user entered number."
      ],
      "metadata": {
        "id": "e3zA-jdAuZ_x"
      }
    },
    {
      "cell_type": "code",
      "source": [
        "li = [1, 2, 3, 4, 5, 6, 7, 8, 9, 10]\n",
        "n = int(input(\"Enter a num: \"))\n",
        "tables = [i*n for i in li]\n",
        "print(tables)"
      ],
      "metadata": {
        "colab": {
          "base_uri": "https://localhost:8080/"
        },
        "id": "cgM5WKClubEG",
        "outputId": "379ed867-3b5c-4f38-9e8d-2053a11cabe2"
      },
      "execution_count": null,
      "outputs": [
        {
          "output_type": "stream",
          "name": "stdout",
          "text": [
            "Enter a num: 4\n",
            "[4, 8, 12, 16, 20, 24, 28, 32, 36, 40]\n"
          ]
        }
      ]
    },
    {
      "cell_type": "markdown",
      "source": [
        "4. Write a program to display a/b where a and b are integers. If b=0, display infinite by\n",
        "handling the ‘ZeroDivisionError’.\n"
      ],
      "metadata": {
        "id": "12hfiUJGu8FD"
      }
    },
    {
      "cell_type": "code",
      "source": [
        "a = int(input(\"Enter a number: \"))\n",
        "b = int(input(\"Enter a number: \"))\n",
        "\n",
        "try:\n",
        "    print(f\"a/b is {a/b}\")\n",
        "except Exception as ZeroDivisionError:\n",
        "    print(\"Infinite\")\n",
        "finally:\n",
        "    print(\"I'm always printed!!!cuz I'm a part of finally block\\nHappy coding\")"
      ],
      "metadata": {
        "colab": {
          "base_uri": "https://localhost:8080/"
        },
        "id": "b_ihkRL-u9CC",
        "outputId": "59f7381b-d30d-41da-edfc-fe29f4825653"
      },
      "execution_count": null,
      "outputs": [
        {
          "output_type": "stream",
          "name": "stdout",
          "text": [
            "Enter a number: 2\n",
            "Enter a number: 0\n",
            "Infinite\n",
            "I'm always printed!!!cuz I'm a part of finally block\n",
            "Happy coding\n"
          ]
        }
      ]
    },
    {
      "cell_type": "markdown",
      "source": [
        "5. Store the multiplication tables generated in problem 3 in a file named Tables.txt"
      ],
      "metadata": {
        "id": "9Obf7IX0v1kz"
      }
    },
    {
      "cell_type": "markdown",
      "source": [
        "Done in vs code"
      ],
      "metadata": {
        "id": "ONXiWNwvxKDT"
      }
    },
    {
      "cell_type": "markdown",
      "source": [
        "#Hacker Rank Problems"
      ],
      "metadata": {
        "id": "Xg5DUZXhxPAf"
      }
    },
    {
      "cell_type": "code",
      "source": [
        "def swap_case(s):\n",
        "    return s.swapcase()\n",
        "\n",
        "if __name__ == '__main__':\n",
        "    s = input()\n",
        "    result = swap_case(s)\n",
        "    print(result)"
      ],
      "metadata": {
        "id": "WrYO7srKv2gy",
        "colab": {
          "base_uri": "https://localhost:8080/"
        },
        "outputId": "4613d0c5-a45f-4a30-d638-65fad6d01360"
      },
      "execution_count": null,
      "outputs": [
        {
          "output_type": "stream",
          "name": "stdout",
          "text": [
            "Hi\n",
            "hI\n"
          ]
        }
      ]
    },
    {
      "cell_type": "code",
      "source": [
        "def split_and_join(line):\n",
        "    # write your code here\n",
        "    line = line.split(\" \")\n",
        "    line = \"-\".join(line)\n",
        "    return line\n",
        "\n",
        "if __name__ == '__main__':\n",
        "    line = input()\n",
        "    result = split_and_join(line)\n",
        "    print(result)"
      ],
      "metadata": {
        "id": "8iO6JWZJgvtA"
      },
      "execution_count": null,
      "outputs": []
    },
    {
      "cell_type": "code",
      "source": [
        "def count_substring(string, sub_string):\n",
        "    count = 0\n",
        "    for i in range(len(string) - len(sub_string)+1):\n",
        "        if(string[i: i+len(sub_string)] == sub_string):\n",
        "            count += 1\n",
        "    return count\n",
        "\n",
        "if __name__ == '__main__':\n",
        "    string = input().strip()\n",
        "    sub_string = input().strip()\n",
        "\n",
        "    count = count_substring(string, sub_string)\n",
        "    print(count)"
      ],
      "metadata": {
        "colab": {
          "base_uri": "https://localhost:8080/"
        },
        "id": "pVL14J_vkHmb",
        "outputId": "7a213d99-c018-4052-b854-72274c72203d"
      },
      "execution_count": null,
      "outputs": [
        {
          "output_type": "stream",
          "name": "stdout",
          "text": [
            "abcbc\n",
            "bc\n",
            "2\n"
          ]
        }
      ]
    },
    {
      "cell_type": "code",
      "source": [
        "import numpy as np\n",
        "\n",
        "arr = np.array([1, 2, 3, 4, 5, 6, 7, 8, 9, 10])\n",
        "print(arr)"
      ],
      "metadata": {
        "colab": {
          "base_uri": "https://localhost:8080/"
        },
        "id": "bgZm28wxn1zK",
        "outputId": "5359cefb-7e79-4338-cc65-e09cb2c97f41"
      },
      "execution_count": null,
      "outputs": [
        {
          "output_type": "stream",
          "name": "stdout",
          "text": [
            "[ 1  2  3  4  5  6  7  8  9 10]\n"
          ]
        }
      ]
    },
    {
      "cell_type": "code",
      "source": [
        "arr = np.array([[1, 2, 3], [4, 5, 6], [7, 8, 9]])\n",
        "print(arr)"
      ],
      "metadata": {
        "colab": {
          "base_uri": "https://localhost:8080/"
        },
        "id": "alK6svbioTV4",
        "outputId": "6e9c20ee-4de4-4eb1-b606-694b3dcc2f11"
      },
      "execution_count": null,
      "outputs": [
        {
          "output_type": "stream",
          "name": "stdout",
          "text": [
            "[[1 2 3]\n",
            " [4 5 6]\n",
            " [7 8 9]]\n"
          ]
        }
      ]
    },
    {
      "cell_type": "code",
      "source": [
        "\n",
        "arr = np.array(np.random.randint([n]))\n",
        "arr"
      ],
      "metadata": {
        "colab": {
          "base_uri": "https://localhost:8080/"
        },
        "id": "H7lJlvZ3ofv4",
        "outputId": "0e584e3b-f1b7-4707-babe-fd69bdbf1399"
      },
      "execution_count": null,
      "outputs": [
        {
          "output_type": "execute_result",
          "data": {
            "text/plain": [
              "array([0, 3])"
            ]
          },
          "metadata": {},
          "execution_count": 11
        }
      ]
    },
    {
      "cell_type": "code",
      "source": [
        "import numpy as np\n",
        "\n",
        "arr = np.arange(1, 11)  # Cleaner alternative\n",
        "print(\"1D Array from 1 to 10:\", arr)\n"
      ],
      "metadata": {
        "colab": {
          "base_uri": "https://localhost:8080/"
        },
        "id": "u3TFREx6zfTk",
        "outputId": "67d5e246-77fb-4fec-e5a3-c6df854badad"
      },
      "execution_count": null,
      "outputs": [
        {
          "output_type": "stream",
          "name": "stdout",
          "text": [
            "1D Array from 1 to 10: [ 1  2  3  4  5  6  7  8  9 10]\n"
          ]
        }
      ]
    },
    {
      "cell_type": "code",
      "source": [
        "import numpy as np\n",
        "\n",
        "arr = np.arange(1, 10).reshape(3, 3)  # Cleaner and dynamic\n",
        "print(\"3x3 Matrix:\")\n",
        "print(arr)\n"
      ],
      "metadata": {
        "colab": {
          "base_uri": "https://localhost:8080/"
        },
        "id": "TxulgR_bzlog",
        "outputId": "9a07eae6-7ad3-4826-9a8f-bba9da1d7ea0"
      },
      "execution_count": null,
      "outputs": [
        {
          "output_type": "stream",
          "name": "stdout",
          "text": [
            "3x3 Matrix:\n",
            "[[1 2 3]\n",
            " [4 5 6]\n",
            " [7 8 9]]\n"
          ]
        }
      ]
    },
    {
      "cell_type": "code",
      "source": [
        "import numpy as np\n",
        "\n",
        "# Create a 3x3 matrix with numbers 1 to 9\n",
        "matrix = np.arange(1, 10).reshape(3, 3)\n",
        "\n",
        "print(\"Matrix:\")\n",
        "print(matrix)\n",
        "\n",
        "# Transpose it\n",
        "print(\"Transposed Matrix:\")\n",
        "print(matrix.T)\n",
        "\n",
        "# Sum of all elements\n",
        "print(\"Sum:\", matrix.sum())\n"
      ],
      "metadata": {
        "colab": {
          "base_uri": "https://localhost:8080/"
        },
        "id": "Dg4KUDRWznau",
        "outputId": "3e201ea6-20f9-4210-98e2-49b3aa3b498f"
      },
      "execution_count": null,
      "outputs": [
        {
          "output_type": "stream",
          "name": "stdout",
          "text": [
            "Matrix:\n",
            "[[1 2 3]\n",
            " [4 5 6]\n",
            " [7 8 9]]\n",
            "Transposed Matrix:\n",
            "[[1 4 7]\n",
            " [2 5 8]\n",
            " [3 6 9]]\n",
            "Sum: 45\n"
          ]
        }
      ]
    },
    {
      "cell_type": "code",
      "source": [
        "def checkOddEven(x):\n",
        "    if x % 2 == 0:\n",
        "        return \"Even\"\n",
        "    else:\n",
        "        return \"Odd\"\n",
        "\n",
        "x = int(input())\n",
        "print(checkOddEven(x))\n"
      ],
      "metadata": {
        "id": "mzS76TNKxYEM",
        "outputId": "fb1bccd4-8e78-405f-ddf1-96553afbfa48",
        "colab": {
          "base_uri": "https://localhost:8080/"
        }
      },
      "execution_count": null,
      "outputs": [
        {
          "output_type": "stream",
          "name": "stdout",
          "text": [
            "1\n",
            "Odd\n"
          ]
        }
      ]
    },
    {
      "cell_type": "code",
      "source": [
        "d = dict({'x':123, 'y':354})\n",
        "for i in d:\n",
        "    print(\"%s  %d\" % (i, d[i]))"
      ],
      "metadata": {
        "colab": {
          "base_uri": "https://localhost:8080/"
        },
        "id": "CW0qXWF17S1W",
        "outputId": "c19cbec6-3674-4bde-c3d4-297bc79e3448"
      },
      "execution_count": null,
      "outputs": [
        {
          "output_type": "stream",
          "name": "stdout",
          "text": [
            "x  123\n",
            "y  354\n"
          ]
        }
      ]
    },
    {
      "cell_type": "code",
      "source": [
        "for letter in 'geeksforgeeks':\n",
        "    if letter == 'e' or letter == 's':\n",
        "        break\n",
        "\n",
        "print('Current Letter :', letter)"
      ],
      "metadata": {
        "colab": {
          "base_uri": "https://localhost:8080/"
        },
        "id": "LuFEx5xi90e3",
        "outputId": "419f1d11-5b37-4540-9c05-a3bb16fd1d55"
      },
      "execution_count": null,
      "outputs": [
        {
          "output_type": "stream",
          "name": "stdout",
          "text": [
            "Current Letter : e\n"
          ]
        }
      ]
    },
    {
      "cell_type": "code",
      "source": [
        "fruits = [\"apple\", \"orange\", \"kiwi\"]\n",
        "iter_obj = iter(fruits)\n",
        "while True:\n",
        "    try:\n",
        "        fruit = next(iter_obj)\n",
        "        print(fruit)\n",
        "    except StopIteration:\n",
        "        break"
      ],
      "metadata": {
        "colab": {
          "base_uri": "https://localhost:8080/"
        },
        "id": "wXUI5ANf-4Jx",
        "outputId": "7189736c-148b-4c19-9505-7c972cbf6b06"
      },
      "execution_count": null,
      "outputs": [
        {
          "output_type": "stream",
          "name": "stdout",
          "text": [
            "apple\n",
            "orange\n",
            "kiwi\n"
          ]
        }
      ]
    }
  ]
}