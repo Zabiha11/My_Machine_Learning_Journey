{
  "nbformat": 4,
  "nbformat_minor": 0,
  "metadata": {
    "colab": {
      "provenance": [],
      "authorship_tag": "ABX9TyNSVSkHBeTdWGswVU+zpKR6",
      "include_colab_link": true
    },
    "kernelspec": {
      "name": "python3",
      "display_name": "Python 3"
    },
    "language_info": {
      "name": "python"
    }
  },
  "cells": [
    {
      "cell_type": "markdown",
      "metadata": {
        "id": "view-in-github",
        "colab_type": "text"
      },
      "source": [
        "<a href=\"https://colab.research.google.com/github/Zabiha11/My_Machine_Learning_Journey/blob/main/Numpy_Practice.ipynb\" target=\"_parent\"><img src=\"https://colab.research.google.com/assets/colab-badge.svg\" alt=\"Open In Colab\"/></a>"
      ]
    },
    {
      "cell_type": "code",
      "execution_count": null,
      "metadata": {
        "id": "fpQ4tTqsGEpL"
      },
      "outputs": [],
      "source": [
        "import numpy as np"
      ]
    },
    {
      "cell_type": "code",
      "source": [
        "a = np.array([1, 2, 3])\n",
        "a.ndim #ndim is a builtin method used to check the no.of dimension"
      ],
      "metadata": {
        "colab": {
          "base_uri": "https://localhost:8080/"
        },
        "id": "F4NcZItHGnBo",
        "outputId": "45240c6d-003d-4b5f-b8aa-bff0d572d9a8"
      },
      "execution_count": null,
      "outputs": [
        {
          "output_type": "execute_result",
          "data": {
            "text/plain": [
              "1"
            ]
          },
          "metadata": {},
          "execution_count": 3
        }
      ]
    },
    {
      "cell_type": "code",
      "source": [
        "a = np.array([[[[[]]]]])\n",
        "a.ndim\n",
        "a.shape"
      ],
      "metadata": {
        "colab": {
          "base_uri": "https://localhost:8080/"
        },
        "id": "FJc-MqNgHZE7",
        "outputId": "0c2b00da-4918-4037-9004-7aae4d501c83"
      },
      "execution_count": null,
      "outputs": [
        {
          "output_type": "execute_result",
          "data": {
            "text/plain": [
              "(1, 1, 1, 1, 0)"
            ]
          },
          "metadata": {},
          "execution_count": 4
        }
      ]
    },
    {
      "cell_type": "markdown",
      "source": [
        "creating a range of numbers"
      ],
      "metadata": {
        "id": "X6eM-D2wILZN"
      }
    },
    {
      "cell_type": "code",
      "source": [
        "range = np.arange(1,10,2)\n",
        "range"
      ],
      "metadata": {
        "colab": {
          "base_uri": "https://localhost:8080/"
        },
        "id": "69EeSqTuIKlo",
        "outputId": "07bd1c20-42aa-4be5-c05c-79b76c110878"
      },
      "execution_count": null,
      "outputs": [
        {
          "output_type": "execute_result",
          "data": {
            "text/plain": [
              "array([1, 3, 5, 7, 9])"
            ]
          },
          "metadata": {},
          "execution_count": 5
        }
      ]
    },
    {
      "cell_type": "markdown",
      "source": [
        "using linspace property we can evenly space the elements in a list\n",
        "\n",
        "has start, stop and number of values between them"
      ],
      "metadata": {
        "id": "3keyuFX0Itin"
      }
    },
    {
      "cell_type": "code",
      "source": [
        "arr = np.linspace(0,1,10,dtype = int)\n",
        "arr\n",
        "#print(arr)"
      ],
      "metadata": {
        "colab": {
          "base_uri": "https://localhost:8080/"
        },
        "id": "8_CBthb8I6MT",
        "outputId": "b69b0d77-bb2d-4edc-e805-881989846088"
      },
      "execution_count": null,
      "outputs": [
        {
          "output_type": "execute_result",
          "data": {
            "text/plain": [
              "array([0, 0, 0, 0, 0, 0, 0, 0, 0, 1])"
            ]
          },
          "metadata": {},
          "execution_count": 6
        }
      ]
    },
    {
      "cell_type": "markdown",
      "source": [
        "np.logspace -> logarithmic scale array ->"
      ],
      "metadata": {
        "id": "MSBbtNXjJWew"
      }
    },
    {
      "cell_type": "code",
      "source": [
        "arr = np.logspace(1,5,3)\n",
        "print(arr)"
      ],
      "metadata": {
        "colab": {
          "base_uri": "https://localhost:8080/"
        },
        "id": "em4oDiAOJvKm",
        "outputId": "d53a587e-5c53-40b7-851d-9186a72b7f1b"
      },
      "execution_count": null,
      "outputs": [
        {
          "output_type": "stream",
          "name": "stdout",
          "text": [
            "[1.e+01 1.e+03 1.e+05]\n"
          ]
        }
      ]
    },
    {
      "cell_type": "markdown",
      "source": [
        "np.zeros - creates an array full of zeros"
      ],
      "metadata": {
        "id": "vLu6ZJgCKlzo"
      }
    },
    {
      "cell_type": "code",
      "source": [
        "a = np.zeros(3)\n",
        "a"
      ],
      "metadata": {
        "colab": {
          "base_uri": "https://localhost:8080/"
        },
        "id": "mKztX99aLN2-",
        "outputId": "b824e246-993c-4cff-c6b1-445ef44217c6"
      },
      "execution_count": null,
      "outputs": [
        {
          "output_type": "execute_result",
          "data": {
            "text/plain": [
              "array([0., 0., 0.])"
            ]
          },
          "metadata": {},
          "execution_count": 8
        }
      ]
    },
    {
      "cell_type": "code",
      "source": [
        "a = np.zeros([5,2])\n",
        "a"
      ],
      "metadata": {
        "colab": {
          "base_uri": "https://localhost:8080/"
        },
        "id": "SYquGZI9KqYl",
        "outputId": "5d9d0042-aa80-41d3-c8b7-49e0bd24931e"
      },
      "execution_count": null,
      "outputs": [
        {
          "output_type": "execute_result",
          "data": {
            "text/plain": [
              "array([[0., 0.],\n",
              "       [0., 0.],\n",
              "       [0., 0.],\n",
              "       [0., 0.],\n",
              "       [0., 0.]])"
            ]
          },
          "metadata": {},
          "execution_count": 9
        }
      ]
    },
    {
      "cell_type": "markdown",
      "source": [
        "np.ones - creates an array of ones"
      ],
      "metadata": {
        "id": "x-jp1jpuLerX"
      }
    },
    {
      "cell_type": "code",
      "source": [
        "a = np.ones(10, dtype = int)\n",
        "a"
      ],
      "metadata": {
        "colab": {
          "base_uri": "https://localhost:8080/"
        },
        "id": "id9hN9clLku6",
        "outputId": "28ad3c02-cc74-4528-a768-bc6349de1931"
      },
      "execution_count": null,
      "outputs": [
        {
          "output_type": "execute_result",
          "data": {
            "text/plain": [
              "array([1, 1, 1, 1, 1, 1, 1, 1, 1, 1])"
            ]
          },
          "metadata": {},
          "execution_count": 10
        }
      ]
    },
    {
      "cell_type": "markdown",
      "source": [
        "arr.full(no.of elements, element)"
      ],
      "metadata": {
        "id": "HCjH-w4yL-dD"
      }
    },
    {
      "cell_type": "code",
      "source": [
        "a = np.full(10, 2)\n",
        "a"
      ],
      "metadata": {
        "colab": {
          "base_uri": "https://localhost:8080/"
        },
        "id": "pd7ujhnCMOBj",
        "outputId": "df8ff285-3d62-4b51-b8df-6d1b8c62223f"
      },
      "execution_count": null,
      "outputs": [
        {
          "output_type": "execute_result",
          "data": {
            "text/plain": [
              "array([2, 2, 2, 2, 2, 2, 2, 2, 2, 2])"
            ]
          },
          "metadata": {},
          "execution_count": 11
        }
      ]
    },
    {
      "cell_type": "code",
      "source": [
        "a = np.full([2, 4], 6)\n",
        "a"
      ],
      "metadata": {
        "colab": {
          "base_uri": "https://localhost:8080/"
        },
        "id": "2LLr0bo6MeZc",
        "outputId": "13018e18-7593-4430-8fe2-8bf9c9a2f3e3"
      },
      "execution_count": null,
      "outputs": [
        {
          "output_type": "execute_result",
          "data": {
            "text/plain": [
              "array([[6, 6, 6, 6],\n",
              "       [6, 6, 6, 6]])"
            ]
          },
          "metadata": {},
          "execution_count": 12
        }
      ]
    },
    {
      "cell_type": "markdown",
      "source": [
        "np.empty() -> uninitialized array - creates an empty array"
      ],
      "metadata": {
        "id": "WGfuU5HwMrk-"
      }
    },
    {
      "cell_type": "code",
      "source": [
        "b = np.empty([2, 3])\n",
        "b"
      ],
      "metadata": {
        "colab": {
          "base_uri": "https://localhost:8080/"
        },
        "id": "wVeSq9CWM7bz",
        "outputId": "f7468b00-7ef6-4eb4-c8fe-34808f63ba24"
      },
      "execution_count": null,
      "outputs": [
        {
          "output_type": "execute_result",
          "data": {
            "text/plain": [
              "array([[2.62588083e-315, 0.00000000e+000, 0.00000000e+000],\n",
              "       [0.00000000e+000, 0.00000000e+000, 0.00000000e+000]])"
            ]
          },
          "metadata": {},
          "execution_count": 13
        }
      ]
    },
    {
      "cell_type": "markdown",
      "source": [
        "np.random.rand() - generates random floats(0-1)"
      ],
      "metadata": {
        "id": "d7q3O1C0NMcM"
      }
    },
    {
      "cell_type": "code",
      "source": [
        "c = np.random.rand(19)\n",
        "c"
      ],
      "metadata": {
        "colab": {
          "base_uri": "https://localhost:8080/"
        },
        "id": "_TVB2EM7NYVS",
        "outputId": "bdaf0657-f304-4d6d-cdc9-b984a9d992ea"
      },
      "execution_count": null,
      "outputs": [
        {
          "output_type": "execute_result",
          "data": {
            "text/plain": [
              "array([0.84017973, 0.20266304, 0.21504404, 0.23427633, 0.69112753,\n",
              "       0.23299358, 0.38920205, 0.49188202, 0.36601854, 0.82706094,\n",
              "       0.35906201, 0.74700664, 0.49435689, 0.85579066, 0.6176212 ,\n",
              "       0.28216831, 0.51715239, 0.64485115, 0.46295687])"
            ]
          },
          "metadata": {},
          "execution_count": 14
        }
      ]
    },
    {
      "cell_type": "code",
      "source": [
        "c = np.random.rand(1,2)\n",
        "c"
      ],
      "metadata": {
        "colab": {
          "base_uri": "https://localhost:8080/"
        },
        "id": "NWLBqpXaNpnc",
        "outputId": "e7c381c5-4b64-45c9-f413-cf3adcd8f975"
      },
      "execution_count": null,
      "outputs": [
        {
          "output_type": "execute_result",
          "data": {
            "text/plain": [
              "array([[0.34960742, 0.90169272]])"
            ]
          },
          "metadata": {},
          "execution_count": 15
        }
      ]
    },
    {
      "cell_type": "markdown",
      "source": [
        "mp.random.randn() -> this function generates random floats from standard normal distribution( mean = 0 and standard deviation(how spread the data is) = 1)\n",
        "\n"
      ],
      "metadata": {
        "id": "U4-ZXu7MN0A2"
      }
    },
    {
      "cell_type": "code",
      "source": [
        "arr = np.random.randn(2,4)\n",
        "arr"
      ],
      "metadata": {
        "colab": {
          "base_uri": "https://localhost:8080/"
        },
        "id": "JivtZSwbOYfB",
        "outputId": "92c3c93c-2cad-4434-d5a2-227ebfd773f2"
      },
      "execution_count": null,
      "outputs": [
        {
          "output_type": "execute_result",
          "data": {
            "text/plain": [
              "array([[-0.73331859, -0.82516255,  0.55271971, -0.35827384],\n",
              "       [-0.52091066, -0.37922597,  1.30231987,  1.11616385]])"
            ]
          },
          "metadata": {},
          "execution_count": 16
        }
      ]
    },
    {
      "cell_type": "markdown",
      "source": [
        "np.random.randint(start, stop,dimention/no.of values) -> generates a random integer"
      ],
      "metadata": {
        "id": "acINHY4bOqdG"
      }
    },
    {
      "cell_type": "code",
      "source": [
        "arr = np.random.randint(2,18)\n",
        "arr"
      ],
      "metadata": {
        "colab": {
          "base_uri": "https://localhost:8080/"
        },
        "id": "DgsYIjpKOzxO",
        "outputId": "f819a027-0871-4b7d-90ac-f14386b88cf9"
      },
      "execution_count": null,
      "outputs": [
        {
          "output_type": "execute_result",
          "data": {
            "text/plain": [
              "8"
            ]
          },
          "metadata": {},
          "execution_count": 17
        }
      ]
    },
    {
      "cell_type": "code",
      "source": [
        "arr = np.random.randint(2,18, 10)\n",
        "arr"
      ],
      "metadata": {
        "colab": {
          "base_uri": "https://localhost:8080/"
        },
        "id": "z9Q1Q2iIPJPi",
        "outputId": "43180ffc-fd90-4e4a-8975-0d39483c1617"
      },
      "execution_count": null,
      "outputs": [
        {
          "output_type": "execute_result",
          "data": {
            "text/plain": [
              "array([12, 12,  6,  6,  9, 17, 12,  7,  5, 16])"
            ]
          },
          "metadata": {},
          "execution_count": 18
        }
      ]
    },
    {
      "cell_type": "code",
      "source": [
        "arr = np.random.randint(2,18, [2,4])\n",
        "arr"
      ],
      "metadata": {
        "colab": {
          "base_uri": "https://localhost:8080/"
        },
        "id": "iSTahcvUPPRB",
        "outputId": "d15d35c0-e1b9-4511-9d1e-28aa39e72225"
      },
      "execution_count": null,
      "outputs": [
        {
          "output_type": "execute_result",
          "data": {
            "text/plain": [
              "array([[12,  3,  2,  2],\n",
              "       [ 4, 14,  9,  8]])"
            ]
          },
          "metadata": {},
          "execution_count": 19
        }
      ]
    },
    {
      "cell_type": "markdown",
      "source": [
        "Numpy Data Types and Type Casting"
      ],
      "metadata": {
        "id": "cNzVfNL9UdHN"
      }
    },
    {
      "cell_type": "code",
      "source": [
        "arr = np.array([1, 2, 3, 4, 5], dtype = np.float64)\n",
        "arr"
      ],
      "metadata": {
        "colab": {
          "base_uri": "https://localhost:8080/"
        },
        "id": "pGeltkW0WPEl",
        "outputId": "0bf6397c-9d30-40cc-95a3-7447c7a135b6"
      },
      "execution_count": null,
      "outputs": [
        {
          "output_type": "execute_result",
          "data": {
            "text/plain": [
              "array([1., 2., 3., 4., 5.])"
            ]
          },
          "metadata": {},
          "execution_count": 20
        }
      ]
    },
    {
      "cell_type": "markdown",
      "source": [
        "type casting -> to convert one dtype to other -> astype()"
      ],
      "metadata": {
        "id": "DQDLuQxsW8LW"
      }
    },
    {
      "cell_type": "code",
      "source": [
        "arr = np.array([1, 2, 3, 4, 5])\n",
        "new_arr = arr.astype(np.float64)\n",
        "new_arr"
      ],
      "metadata": {
        "id": "bdB_Zf2oXESM",
        "colab": {
          "base_uri": "https://localhost:8080/"
        },
        "outputId": "5e7fc326-c203-4e63-be72-8d7b82a50330"
      },
      "execution_count": null,
      "outputs": [
        {
          "output_type": "execute_result",
          "data": {
            "text/plain": [
              "array([1., 2., 3., 4., 5.])"
            ]
          },
          "metadata": {},
          "execution_count": 21
        }
      ]
    },
    {
      "cell_type": "markdown",
      "source": [
        "How to build a multi dimensional array manually?"
      ],
      "metadata": {
        "id": "XOfOohaV7PG2"
      }
    },
    {
      "cell_type": "code",
      "source": [
        " arr = np.array([[1, 2, 3],\n",
        "                [4, 5, 6]])\n",
        " arr"
      ],
      "metadata": {
        "colab": {
          "base_uri": "https://localhost:8080/"
        },
        "id": "m9tr_86H7Tn1",
        "outputId": "acbc9d85-aeac-4f47-e87e-dc31aedc9533"
      },
      "execution_count": null,
      "outputs": [
        {
          "output_type": "execute_result",
          "data": {
            "text/plain": [
              "array([[1, 2, 3],\n",
              "       [4, 5, 6]])"
            ]
          },
          "metadata": {},
          "execution_count": 22
        }
      ]
    },
    {
      "cell_type": "code",
      "source": [
        "arr.ndim"
      ],
      "metadata": {
        "colab": {
          "base_uri": "https://localhost:8080/"
        },
        "id": "GDQ57gHx-knq",
        "outputId": "396de715-c246-4df7-f9bd-fe9452429ed7"
      },
      "execution_count": null,
      "outputs": [
        {
          "output_type": "execute_result",
          "data": {
            "text/plain": [
              "2"
            ]
          },
          "metadata": {},
          "execution_count": 23
        }
      ]
    },
    {
      "cell_type": "code",
      "source": [
        "arr.itemsize\n"
      ],
      "metadata": {
        "colab": {
          "base_uri": "https://localhost:8080/"
        },
        "id": "1EIrJkJ0-nzo",
        "outputId": "770e15c7-dc53-4e3e-d413-850dc3db2576"
      },
      "execution_count": null,
      "outputs": [
        {
          "output_type": "execute_result",
          "data": {
            "text/plain": [
              "8"
            ]
          },
          "metadata": {},
          "execution_count": 24
        }
      ]
    },
    {
      "cell_type": "markdown",
      "source": [
        "Array Reshaping -> Reshape, Ravel, Flatten    "
      ],
      "metadata": {
        "id": "sMXTKnVs-sL5"
      }
    },
    {
      "cell_type": "code",
      "source": [
        "arr.shape\n"
      ],
      "metadata": {
        "colab": {
          "base_uri": "https://localhost:8080/"
        },
        "id": "StCnf7V1AWgq",
        "outputId": "47b67910-927b-4b17-9993-4363c85ce028"
      },
      "execution_count": null,
      "outputs": [
        {
          "output_type": "execute_result",
          "data": {
            "text/plain": [
              "(2, 3)"
            ]
          },
          "metadata": {},
          "execution_count": 25
        }
      ]
    },
    {
      "cell_type": "code",
      "source": [
        "arr2 = arr.reshape(6, 1)\n",
        "arr2"
      ],
      "metadata": {
        "colab": {
          "base_uri": "https://localhost:8080/"
        },
        "id": "EtHHUhRBAZwC",
        "outputId": "7c2ff0b2-c4ae-4cd3-faee-3f580718c7b8"
      },
      "execution_count": null,
      "outputs": [
        {
          "output_type": "execute_result",
          "data": {
            "text/plain": [
              "array([[1],\n",
              "       [2],\n",
              "       [3],\n",
              "       [4],\n",
              "       [5],\n",
              "       [6]])"
            ]
          },
          "metadata": {},
          "execution_count": 26
        }
      ]
    },
    {
      "cell_type": "code",
      "source": [
        " rav = arr2.ravel()\n",
        " print(rav)\n",
        " print(arr2)"
      ],
      "metadata": {
        "colab": {
          "base_uri": "https://localhost:8080/"
        },
        "id": "s1iMaRsjA_0r",
        "outputId": "05558e12-c621-4392-fa31-a721cf830169"
      },
      "execution_count": null,
      "outputs": [
        {
          "output_type": "stream",
          "name": "stdout",
          "text": [
            "[1 2 3 4 5 6]\n",
            "[[1]\n",
            " [2]\n",
            " [3]\n",
            " [4]\n",
            " [5]\n",
            " [6]]\n"
          ]
        }
      ]
    },
    {
      "cell_type": "code",
      "source": [],
      "metadata": {
        "id": "7OwHrnxeIt1S"
      },
      "execution_count": null,
      "outputs": []
    },
    {
      "cell_type": "markdown",
      "source": [
        "both the function covert the multi dim array into 1D array"
      ],
      "metadata": {
        "id": "HlIuWcRgJXRr"
      }
    },
    {
      "cell_type": "markdown",
      "source": [
        "flatten() method creates an independent array, whereas ravel() returns the changes in the original array...\n",
        "\n",
        "ravel() is dependent on original array"
      ],
      "metadata": {
        "id": "5DU8CpB6IuWX"
      }
    },
    {
      "cell_type": "code",
      "source": [
        "flat = arr2.flatten()\n",
        "flat"
      ],
      "metadata": {
        "colab": {
          "base_uri": "https://localhost:8080/"
        },
        "id": "jQURNeWIIhlw",
        "outputId": "f2e7d00d-ac5a-4468-8827-b72ff2a1cc1b"
      },
      "execution_count": null,
      "outputs": [
        {
          "output_type": "execute_result",
          "data": {
            "text/plain": [
              "array([1, 2, 3, 4, 5, 6])"
            ]
          },
          "metadata": {},
          "execution_count": 28
        }
      ]
    },
    {
      "cell_type": "markdown",
      "source": [
        "Arithmetic Operations on Arrays"
      ],
      "metadata": {
        "id": "nvdBiEFrJrMW"
      }
    },
    {
      "cell_type": "code",
      "source": [
        "a = np.array([1, 2, 3])\n",
        "b = np.array([1, 2, 3])\n",
        "print(a+b)\n",
        "print(a-b)\n",
        "print(a*b)\n",
        "print(a/b)\n",
        "print(a//b)"
      ],
      "metadata": {
        "colab": {
          "base_uri": "https://localhost:8080/"
        },
        "id": "6oLkDVgXKXVe",
        "outputId": "f0bf3730-8df5-4338-8b01-c3715fd26d96"
      },
      "execution_count": null,
      "outputs": [
        {
          "output_type": "stream",
          "name": "stdout",
          "text": [
            "[2 4 6]\n",
            "[0 0 0]\n",
            "[1 4 9]\n",
            "[1. 1. 1.]\n",
            "[1 1 1]\n"
          ]
        }
      ]
    },
    {
      "cell_type": "markdown",
      "source": [
        "Ufuncs -> Universal Functions"
      ],
      "metadata": {
        "id": "hITSUracLHJ6"
      }
    },
    {
      "cell_type": "code",
      "source": [
        "arr = np.array([1, 4, 9, 16], dtype = int)"
      ],
      "metadata": {
        "id": "pMXvFS1ZKyVL"
      },
      "execution_count": null,
      "outputs": []
    },
    {
      "cell_type": "code",
      "source": [
        "#1\n",
        "print(np.sqrt(arr))"
      ],
      "metadata": {
        "colab": {
          "base_uri": "https://localhost:8080/"
        },
        "id": "X6WYmgdIK715",
        "outputId": "f85562fa-272b-43d9-b7aa-a7bbb13e4595"
      },
      "execution_count": null,
      "outputs": [
        {
          "output_type": "stream",
          "name": "stdout",
          "text": [
            "[1. 2. 3. 4.]\n"
          ]
        }
      ]
    },
    {
      "cell_type": "code",
      "source": [
        "print(np.exp(5)) #Exponential -> e^x -> x can be any integer"
      ],
      "metadata": {
        "colab": {
          "base_uri": "https://localhost:8080/"
        },
        "id": "J_FjphnVLmJK",
        "outputId": "6de442b3-4048-411f-9c8f-76ad3a1656a9"
      },
      "execution_count": null,
      "outputs": [
        {
          "output_type": "stream",
          "name": "stdout",
          "text": [
            "148.4131591025766\n"
          ]
        }
      ]
    },
    {
      "cell_type": "markdown",
      "source": [
        "np.sin -> sine function"
      ],
      "metadata": {
        "id": "TB6yuwenL6FL"
      }
    },
    {
      "cell_type": "code",
      "source": [
        "angles = np.array([0, np.pi/2, np.pi])\n",
        "print(np.sin(angles))"
      ],
      "metadata": {
        "colab": {
          "base_uri": "https://localhost:8080/"
        },
        "id": "eSc7KH_CLzf7",
        "outputId": "129cc9a5-9b63-436c-945b-4aceb79fd1c0"
      },
      "execution_count": null,
      "outputs": [
        {
          "output_type": "stream",
          "name": "stdout",
          "text": [
            "[0.0000000e+00 1.0000000e+00 1.2246468e-16]\n"
          ]
        }
      ]
    },
    {
      "cell_type": "markdown",
      "source": [
        "Indexing and Slicing"
      ],
      "metadata": {
        "id": "mSEJhRcHMOEi"
      }
    },
    {
      "cell_type": "code",
      "source": [
        "a = [1, 2, 3, 4, 5]"
      ],
      "metadata": {
        "id": "oPyIhweUMQUR"
      },
      "execution_count": null,
      "outputs": []
    },
    {
      "cell_type": "code",
      "source": [
        "print(a[-1: -4: -1])"
      ],
      "metadata": {
        "colab": {
          "base_uri": "https://localhost:8080/"
        },
        "id": "xax4TF1WM4ox",
        "outputId": "29903349-0c43-43aa-ce81-dcdf5730b7cb"
      },
      "execution_count": null,
      "outputs": [
        {
          "output_type": "stream",
          "name": "stdout",
          "text": [
            "[5, 4, 3]\n"
          ]
        }
      ]
    },
    {
      "cell_type": "markdown",
      "source": [
        "Multidiemntional Slicing"
      ],
      "metadata": {
        "id": "yiIYD0MvNj4e"
      }
    },
    {
      "cell_type": "code",
      "source": [
        " matrix = np.array([[1, 2, 3],\n",
        "                    [4, 5, 6,],\n",
        "                    [7, 8, 9]])"
      ],
      "metadata": {
        "id": "tbyn5wkENn4K"
      },
      "execution_count": null,
      "outputs": []
    },
    {
      "cell_type": "code",
      "source": [
        "print(matrix[1: , :2])"
      ],
      "metadata": {
        "colab": {
          "base_uri": "https://localhost:8080/"
        },
        "id": "NSBDmRB5PM0Z",
        "outputId": "1f0f1093-6965-427c-9570-910eea068cab"
      },
      "execution_count": null,
      "outputs": [
        {
          "output_type": "stream",
          "name": "stdout",
          "text": [
            "[[4 5]\n",
            " [7 8]]\n"
          ]
        }
      ]
    },
    {
      "cell_type": "markdown",
      "source": [
        "Index Array\n",
        "\n",
        "np.take -> built in func to perform indexing n slicung"
      ],
      "metadata": {
        "id": "Z9O2VaaKPeX3"
      }
    },
    {
      "cell_type": "code",
      "source": [
        "arr = np.array([1, 2,  3])\n",
        "ind = [0, 2]\n",
        "print(np.take(arr, ind))"
      ],
      "metadata": {
        "colab": {
          "base_uri": "https://localhost:8080/"
        },
        "id": "OpGYIXjKPrrG",
        "outputId": "61e28564-3ae2-4a26-cdfb-ea7186d33175"
      },
      "execution_count": null,
      "outputs": [
        {
          "output_type": "stream",
          "name": "stdout",
          "text": [
            "[1 3]\n"
          ]
        }
      ]
    },
    {
      "cell_type": "markdown",
      "source": [
        "Iterating with nditer"
      ],
      "metadata": {
        "id": "Ab1DqOkkP5kl"
      }
    },
    {
      "cell_type": "code",
      "source": [
        "arr4 = np.array([[1, 2, 3],[4, 5, 6]])\n"
      ],
      "metadata": {
        "id": "Fh3e9HygP801"
      },
      "execution_count": null,
      "outputs": []
    },
    {
      "cell_type": "code",
      "source": [
        "for x in np.nditer(arr4):\n",
        "    print(x, end = \" \")"
      ],
      "metadata": {
        "colab": {
          "base_uri": "https://localhost:8080/"
        },
        "id": "mIDej8LLQWuG",
        "outputId": "a718899e-de76-40ec-dcec-8575c8138872"
      },
      "execution_count": null,
      "outputs": [
        {
          "output_type": "stream",
          "name": "stdout",
          "text": [
            "1 2 3 4 5 6 "
          ]
        }
      ]
    },
    {
      "cell_type": "markdown",
      "source": [
        "ndenumerate() -> both index + value"
      ],
      "metadata": {
        "id": "kvv_8pM3QsO4"
      }
    },
    {
      "cell_type": "code",
      "source": [
        "for ind, x in np.ndenumerate(arr4):\n",
        "    print(ind, x)"
      ],
      "metadata": {
        "colab": {
          "base_uri": "https://localhost:8080/"
        },
        "id": "ovO8yDNTQ4fe",
        "outputId": "18c8268f-86dc-4fff-b2e2-2f75c798bd03"
      },
      "execution_count": null,
      "outputs": [
        {
          "output_type": "stream",
          "name": "stdout",
          "text": [
            "(0, 0) 1\n",
            "(0, 1) 2\n",
            "(0, 2) 3\n",
            "(1, 0) 4\n",
            "(1, 1) 5\n",
            "(1, 2) 6\n"
          ]
        }
      ]
    },
    {
      "cell_type": "markdown",
      "source": [
        "Views vs Copies"
      ],
      "metadata": {
        "id": "fI2TnFFuRGyB"
      }
    },
    {
      "cell_type": "code",
      "source": [
        "arr = np.array([1, 2, 3])\n",
        "view = arr[1:3]\n",
        "view"
      ],
      "metadata": {
        "colab": {
          "base_uri": "https://localhost:8080/"
        },
        "id": "SeWhyH7IRJA7",
        "outputId": "4e952da5-d31f-4192-a565-e9bf7f6182fa"
      },
      "execution_count": null,
      "outputs": [
        {
          "output_type": "execute_result",
          "data": {
            "text/plain": [
              "array([2, 3])"
            ]
          },
          "metadata": {},
          "execution_count": 42
        }
      ]
    },
    {
      "cell_type": "code",
      "source": [
        "view[0] = 100\n",
        "view"
      ],
      "metadata": {
        "colab": {
          "base_uri": "https://localhost:8080/"
        },
        "id": "RlW2E4D0RYue",
        "outputId": "336b54d7-8da0-463c-cef5-bb1d999e3091"
      },
      "execution_count": null,
      "outputs": [
        {
          "output_type": "execute_result",
          "data": {
            "text/plain": [
              "array([100,   3])"
            ]
          },
          "metadata": {},
          "execution_count": 43
        }
      ]
    },
    {
      "cell_type": "code",
      "source": [
        "arr"
      ],
      "metadata": {
        "colab": {
          "base_uri": "https://localhost:8080/"
        },
        "id": "JWPc8MzGRefz",
        "outputId": "3534a836-2d14-4c7b-8bc8-123ca04e80a2"
      },
      "execution_count": null,
      "outputs": [
        {
          "output_type": "execute_result",
          "data": {
            "text/plain": [
              "array([  1, 100,   3])"
            ]
          },
          "metadata": {},
          "execution_count": 44
        }
      ]
    },
    {
      "cell_type": "code",
      "source": [
        "copy = arr[1:3].copy()\n",
        "copy"
      ],
      "metadata": {
        "colab": {
          "base_uri": "https://localhost:8080/"
        },
        "id": "gO0AKrGcRgYG",
        "outputId": "be89502e-5267-42e6-9eae-c4e38fc37df8"
      },
      "execution_count": null,
      "outputs": [
        {
          "output_type": "execute_result",
          "data": {
            "text/plain": [
              "array([100,   3])"
            ]
          },
          "metadata": {},
          "execution_count": 45
        }
      ]
    },
    {
      "cell_type": "code",
      "source": [
        "copy[0] = 400\n",
        "copy"
      ],
      "metadata": {
        "colab": {
          "base_uri": "https://localhost:8080/"
        },
        "id": "KFyH8YG5Rqpa",
        "outputId": "da3e7e2c-ab15-4876-93a5-ef607db3aea9"
      },
      "execution_count": null,
      "outputs": [
        {
          "output_type": "execute_result",
          "data": {
            "text/plain": [
              "array([400,   3])"
            ]
          },
          "metadata": {},
          "execution_count": 46
        }
      ]
    },
    {
      "cell_type": "code",
      "source": [
        "arr"
      ],
      "metadata": {
        "colab": {
          "base_uri": "https://localhost:8080/"
        },
        "id": "5eZnUPm1Rw8u",
        "outputId": "151997a0-0a56-445a-f88c-7f216c9b8f6b"
      },
      "execution_count": null,
      "outputs": [
        {
          "output_type": "execute_result",
          "data": {
            "text/plain": [
              "array([  1, 100,   3])"
            ]
          },
          "metadata": {},
          "execution_count": 47
        }
      ]
    },
    {
      "cell_type": "markdown",
      "source": [
        "Transpose"
      ],
      "metadata": {
        "id": "q-_8VzGuR22U"
      }
    },
    {
      "cell_type": "code",
      "source": [
        "a = np.array([[[1, 2], [3, 4]]])\n",
        "print(a.transpose())\n",
        "a.shape"
      ],
      "metadata": {
        "colab": {
          "base_uri": "https://localhost:8080/"
        },
        "id": "CanGDhKWR5S_",
        "outputId": "d044ab96-5588-4f99-bcd2-b0827132534a"
      },
      "execution_count": null,
      "outputs": [
        {
          "output_type": "stream",
          "name": "stdout",
          "text": [
            "[[[1]\n",
            "  [3]]\n",
            "\n",
            " [[2]\n",
            "  [4]]]\n"
          ]
        },
        {
          "output_type": "execute_result",
          "data": {
            "text/plain": [
              "(1, 2, 2)"
            ]
          },
          "metadata": {},
          "execution_count": 48
        }
      ]
    },
    {
      "cell_type": "markdown",
      "source": [
        "Swapaxes ->swap 2 specific axes in a matrix"
      ],
      "metadata": {
        "id": "7Y_g2-GzSWQ5"
      }
    },
    {
      "cell_type": "code",
      "source": [
        "swap = np.swapaxes(a, 0, 1)\n",
        "swap.shape"
      ],
      "metadata": {
        "colab": {
          "base_uri": "https://localhost:8080/"
        },
        "id": "Mgb6QxbISFVJ",
        "outputId": "29e2a3f5-b324-40b1-ff4f-74bdf62e9fb8"
      },
      "execution_count": null,
      "outputs": [
        {
          "output_type": "execute_result",
          "data": {
            "text/plain": [
              "(2, 1, 2)"
            ]
          },
          "metadata": {},
          "execution_count": 49
        }
      ]
    },
    {
      "cell_type": "markdown",
      "source": [
        "Concatenation"
      ],
      "metadata": {
        "id": "mdFxAijjS5V7"
      }
    },
    {
      "cell_type": "code",
      "source": [
        "#simple concayenation\n",
        "\n",
        "a = np.array([[1,2],[3,4]])\n",
        "b = np.array([[1, 2], [3, 4]])\n",
        "cat = np.concatenate((a, b))"
      ],
      "metadata": {
        "id": "FCtXJO1bS631"
      },
      "execution_count": null,
      "outputs": []
    },
    {
      "cell_type": "code",
      "source": [
        "print(np.vstack((a,b)))"
      ],
      "metadata": {
        "colab": {
          "base_uri": "https://localhost:8080/"
        },
        "id": "wOnk0lkmVFv0",
        "outputId": "28d09f40-c857-4e48-8f88-f185a4ccc83b"
      },
      "execution_count": null,
      "outputs": [
        {
          "output_type": "stream",
          "name": "stdout",
          "text": [
            "[[1 2]\n",
            " [3 4]\n",
            " [1 2]\n",
            " [3 4]]\n"
          ]
        }
      ]
    },
    {
      "cell_type": "code",
      "source": [
        "s = \"Good Morning\"\n",
        "s[-4: 3: 2]\n",
        "print(s[-4: 3:-2])"
      ],
      "metadata": {
        "colab": {
          "base_uri": "https://localhost:8080/"
        },
        "id": "L3R54ekgVRon",
        "outputId": "8e0247b2-ac6f-4799-a80a-9ff8fa16711d"
      },
      "execution_count": null,
      "outputs": [
        {
          "output_type": "stream",
          "name": "stdout",
          "text": [
            "no \n"
          ]
        }
      ]
    },
    {
      "cell_type": "code",
      "source": [
        "print(np.hstack((a,b)))"
      ],
      "metadata": {
        "colab": {
          "base_uri": "https://localhost:8080/"
        },
        "id": "-GP9fbsny2ev",
        "outputId": "6343d04e-bac7-4864-d919-fddb1b07409d"
      },
      "execution_count": null,
      "outputs": [
        {
          "output_type": "stream",
          "name": "stdout",
          "text": [
            "[[1 2 1 2]\n",
            " [3 4 3 4]]\n"
          ]
        }
      ]
    },
    {
      "cell_type": "code",
      "source": [
        "print(np.stack((a,b), axis = 0)) #row wise"
      ],
      "metadata": {
        "colab": {
          "base_uri": "https://localhost:8080/"
        },
        "id": "QKmYvgRizmze",
        "outputId": "3cf64154-9882-4cf4-9b17-5248e90d561b"
      },
      "execution_count": null,
      "outputs": [
        {
          "output_type": "stream",
          "name": "stdout",
          "text": [
            "[[[1 2]\n",
            "  [3 4]]\n",
            "\n",
            " [[1 2]\n",
            "  [3 4]]]\n"
          ]
        }
      ]
    },
    {
      "cell_type": "code",
      "source": [
        "print(np.stack((a,b), axis = 1)) #column   wise"
      ],
      "metadata": {
        "colab": {
          "base_uri": "https://localhost:8080/"
        },
        "id": "VkeC2N-Lz557",
        "outputId": "78ecfcc0-0de9-47bb-a02a-bbd783549520"
      },
      "execution_count": null,
      "outputs": [
        {
          "output_type": "stream",
          "name": "stdout",
          "text": [
            "[[[1 2]\n",
            "  [1 2]]\n",
            "\n",
            " [[3 4]\n",
            "  [3 4]]]\n"
          ]
        }
      ]
    },
    {
      "cell_type": "code",
      "source": [
        "print(np.split(a,2))"
      ],
      "metadata": {
        "colab": {
          "base_uri": "https://localhost:8080/"
        },
        "id": "bO2uCoEn1NG0",
        "outputId": "b8535b28-a4b7-4396-a851-359b6972cc28"
      },
      "execution_count": null,
      "outputs": [
        {
          "output_type": "stream",
          "name": "stdout",
          "text": [
            "[array([[1, 2]]), array([[3, 4]])]\n"
          ]
        }
      ]
    },
    {
      "cell_type": "code",
      "source": [
        "print(np.hsplit(a,2))"
      ],
      "metadata": {
        "colab": {
          "base_uri": "https://localhost:8080/"
        },
        "id": "-QGuFygo15qH",
        "outputId": "247ff31c-f71f-4cfd-de2b-da25d43f982a"
      },
      "execution_count": null,
      "outputs": [
        {
          "output_type": "stream",
          "name": "stdout",
          "text": [
            "[array([[1],\n",
            "       [3]]), array([[2],\n",
            "       [4]])]\n"
          ]
        }
      ]
    },
    {
      "cell_type": "code",
      "source": [
        "a = np.array([1, 2, 3])\n",
        "print(np.repeat(a, 2))"
      ],
      "metadata": {
        "colab": {
          "base_uri": "https://localhost:8080/"
        },
        "id": "-OdWA3xk2TQ7",
        "outputId": "a8350bf6-8c7a-4c01-9284-ecb7eac1601e"
      },
      "execution_count": null,
      "outputs": [
        {
          "output_type": "stream",
          "name": "stdout",
          "text": [
            "[1 1 2 2 3 3]\n"
          ]
        }
      ]
    },
    {
      "cell_type": "markdown",
      "source": [
        "#tile -> repeat my whole array"
      ],
      "metadata": {
        "id": "GtT6gn2I2q-U"
      }
    },
    {
      "cell_type": "code",
      "source": [
        "print(np.tile(a, 2))"
      ],
      "metadata": {
        "colab": {
          "base_uri": "https://localhost:8080/"
        },
        "id": "hb0kZphB2wYk",
        "outputId": "19527215-a6be-4281-e1a5-9c52c5508e9d"
      },
      "execution_count": null,
      "outputs": [
        {
          "output_type": "stream",
          "name": "stdout",
          "text": [
            "[1 2 3 1 2 3]\n"
          ]
        }
      ]
    },
    {
      "cell_type": "markdown",
      "source": [
        "Aggregate Functions:"
      ],
      "metadata": {
        "id": "6QSh8Ba54vag"
      }
    },
    {
      "cell_type": "code",
      "source": [
        "arr = np.array([1, 2, 3])\n",
        "print(np.sum(arr))"
      ],
      "metadata": {
        "colab": {
          "base_uri": "https://localhost:8080/"
        },
        "id": "DDJBbLf54y-1",
        "outputId": "a3965e57-eafc-4f52-fcc5-6ae70193d153"
      },
      "execution_count": null,
      "outputs": [
        {
          "output_type": "stream",
          "name": "stdout",
          "text": [
            "6\n"
          ]
        }
      ]
    },
    {
      "cell_type": "code",
      "source": [
        "np.mean(arr)"
      ],
      "metadata": {
        "colab": {
          "base_uri": "https://localhost:8080/"
        },
        "id": "prAYconv5XAj",
        "outputId": "a8aaa441-31f2-424b-b45a-0df3ce5c208e"
      },
      "execution_count": null,
      "outputs": [
        {
          "output_type": "execute_result",
          "data": {
            "text/plain": [
              "np.float64(2.0)"
            ]
          },
          "metadata": {},
          "execution_count": 63
        }
      ]
    },
    {
      "cell_type": "code",
      "source": [
        "np.median(arr)"
      ],
      "metadata": {
        "colab": {
          "base_uri": "https://localhost:8080/"
        },
        "id": "zeO5SN3j5npz",
        "outputId": "4bd17891-3839-4ec7-ef6d-12e0629d4fc0"
      },
      "execution_count": null,
      "outputs": [
        {
          "output_type": "execute_result",
          "data": {
            "text/plain": [
              "np.float64(2.0)"
            ]
          },
          "metadata": {},
          "execution_count": 64
        }
      ]
    },
    {
      "cell_type": "code",
      "source": [
        "np.std(arr)"
      ],
      "metadata": {
        "colab": {
          "base_uri": "https://localhost:8080/"
        },
        "id": "zpI8NaEI54or",
        "outputId": "9ee526f3-7542-40ee-b9a3-2ce34cdada2d"
      },
      "execution_count": null,
      "outputs": [
        {
          "output_type": "execute_result",
          "data": {
            "text/plain": [
              "np.float64(0.816496580927726)"
            ]
          },
          "metadata": {},
          "execution_count": 65
        }
      ]
    },
    {
      "cell_type": "code",
      "source": [
        "np.var(arr)"
      ],
      "metadata": {
        "colab": {
          "base_uri": "https://localhost:8080/"
        },
        "id": "XWmcqO0A6ER2",
        "outputId": "8dedbe2a-6028-428a-e577-d7ffab36084c"
      },
      "execution_count": null,
      "outputs": [
        {
          "output_type": "execute_result",
          "data": {
            "text/plain": [
              "np.float64(0.6666666666666666)"
            ]
          },
          "metadata": {},
          "execution_count": 66
        }
      ]
    },
    {
      "cell_type": "code",
      "source": [
        "np.min(arr)"
      ],
      "metadata": {
        "colab": {
          "base_uri": "https://localhost:8080/"
        },
        "id": "vkAew9-K60ys",
        "outputId": "360d870f-3e63-4e24-f7c0-50846f5fe4e0"
      },
      "execution_count": null,
      "outputs": [
        {
          "output_type": "execute_result",
          "data": {
            "text/plain": [
              "np.int64(1)"
            ]
          },
          "metadata": {},
          "execution_count": 67
        }
      ]
    },
    {
      "cell_type": "code",
      "source": [
        "max(arr)"
      ],
      "metadata": {
        "colab": {
          "base_uri": "https://localhost:8080/"
        },
        "id": "henMTxfw633g",
        "outputId": "1d4f583d-ce0d-4b65-b74b-bd3129986621"
      },
      "execution_count": null,
      "outputs": [
        {
          "output_type": "execute_result",
          "data": {
            "text/plain": [
              "np.int64(3)"
            ]
          },
          "metadata": {},
          "execution_count": 68
        }
      ]
    },
    {
      "cell_type": "code",
      "source": [
        "matrix"
      ],
      "metadata": {
        "colab": {
          "base_uri": "https://localhost:8080/"
        },
        "id": "4EOHhoIU7Hj-",
        "outputId": "fbc13050-0711-40b9-e683-d450624996d7"
      },
      "execution_count": null,
      "outputs": [
        {
          "output_type": "execute_result",
          "data": {
            "text/plain": [
              "array([[1, 2, 3],\n",
              "       [4, 5, 6],\n",
              "       [7, 8, 9]])"
            ]
          },
          "metadata": {},
          "execution_count": 69
        }
      ]
    },
    {
      "cell_type": "code",
      "source": [
        "print(np.sum(matrix, axis = 1))"
      ],
      "metadata": {
        "colab": {
          "base_uri": "https://localhost:8080/"
        },
        "id": "WIV7bPWJ7J7U",
        "outputId": "7fc68920-dda3-4c3d-afce-ac88e9ae7e11"
      },
      "execution_count": null,
      "outputs": [
        {
          "output_type": "stream",
          "name": "stdout",
          "text": [
            "[ 6 15 24]\n"
          ]
        }
      ]
    },
    {
      "cell_type": "code",
      "source": [
        "print(np.sum(matrix, axis = 0))"
      ],
      "metadata": {
        "colab": {
          "base_uri": "https://localhost:8080/"
        },
        "id": "vMk5w42v8oqY",
        "outputId": "67548ef6-a43d-415c-c89c-23b3dd36647a"
      },
      "execution_count": null,
      "outputs": [
        {
          "output_type": "stream",
          "name": "stdout",
          "text": [
            "[12 15 18]\n"
          ]
        }
      ]
    },
    {
      "cell_type": "markdown",
      "source": [
        "#Cumulative Operations -> Running total"
      ],
      "metadata": {
        "id": "b0rik19v9CB9"
      }
    },
    {
      "cell_type": "code",
      "source": [
        "arr"
      ],
      "metadata": {
        "colab": {
          "base_uri": "https://localhost:8080/"
        },
        "id": "8qhzzmkW9L7U",
        "outputId": "9e7e41d3-5baf-4592-ec1b-d1409c3657e9"
      },
      "execution_count": null,
      "outputs": [
        {
          "output_type": "execute_result",
          "data": {
            "text/plain": [
              "array([1, 2, 3])"
            ]
          },
          "metadata": {},
          "execution_count": 72
        }
      ]
    },
    {
      "cell_type": "markdown",
      "source": [
        "np.cumsum -> cumulative sum\n",
        "\n",
        "prints first ele, first + 2nd ele, 1st + 2nd + 3rd, so on...."
      ],
      "metadata": {
        "id": "dIihT7LQ9fPj"
      }
    },
    {
      "cell_type": "code",
      "source": [
        "print(np.cumsum(arr))"
      ],
      "metadata": {
        "colab": {
          "base_uri": "https://localhost:8080/"
        },
        "id": "WOM8X-wE9OKf",
        "outputId": "d80bde24-c4e2-4eca-e6ae-cdcf53dcdac3"
      },
      "execution_count": null,
      "outputs": [
        {
          "output_type": "stream",
          "name": "stdout",
          "text": [
            "[1 3 6]\n"
          ]
        }
      ]
    },
    {
      "cell_type": "code",
      "source": [
        "print(np.cumprod(arr))"
      ],
      "metadata": {
        "colab": {
          "base_uri": "https://localhost:8080/"
        },
        "id": "8zMYDNY5_Mbp",
        "outputId": "f16cecb8-8923-4349-e551-7600fdcd7277"
      },
      "execution_count": null,
      "outputs": [
        {
          "output_type": "stream",
          "name": "stdout",
          "text": [
            "[1 2 6]\n"
          ]
        }
      ]
    },
    {
      "cell_type": "markdown",
      "source": [
        "Conditional Based Choices"
      ],
      "metadata": {
        "id": "ymjviG_W_Ppj"
      }
    },
    {
      "cell_type": "code",
      "source": [
        "#Where\n",
        "\n",
        "arr"
      ],
      "metadata": {
        "colab": {
          "base_uri": "https://localhost:8080/"
        },
        "id": "nRbf3Vyp_UI5",
        "outputId": "d54d4697-b690-432f-c1b3-f2f5746ea41b"
      },
      "execution_count": null,
      "outputs": [
        {
          "output_type": "execute_result",
          "data": {
            "text/plain": [
              "array([1, 2, 3])"
            ]
          },
          "metadata": {},
          "execution_count": 76
        }
      ]
    },
    {
      "cell_type": "code",
      "source": [
        "result = np.where(arr < 2, \"low\", \"high\")\n",
        "result"
      ],
      "metadata": {
        "colab": {
          "base_uri": "https://localhost:8080/"
        },
        "id": "XLccLWaJAj9b",
        "outputId": "276542fa-b62b-4f1f-e54f-f98b0e422d3e"
      },
      "execution_count": null,
      "outputs": [
        {
          "output_type": "execute_result",
          "data": {
            "text/plain": [
              "array(['low', 'high', 'high'], dtype='<U4')"
            ]
          },
          "metadata": {},
          "execution_count": 78
        }
      ]
    },
    {
      "cell_type": "markdown",
      "source": [
        "#argwhere: row-column positions for for 2D arrays"
      ],
      "metadata": {
        "id": "TEt3NcalBVuR"
      }
    },
    {
      "cell_type": "code",
      "source": [
        "arr"
      ],
      "metadata": {
        "colab": {
          "base_uri": "https://localhost:8080/"
        },
        "id": "Xcm5HMojBsj1",
        "outputId": "77f87322-7c24-416d-9e31-3b2a58b09a4d"
      },
      "execution_count": null,
      "outputs": [
        {
          "output_type": "execute_result",
          "data": {
            "text/plain": [
              "array([1, 2, 3])"
            ]
          },
          "metadata": {},
          "execution_count": 79
        }
      ]
    },
    {
      "cell_type": "code",
      "source": [
        "print(np.argwhere(arr > 1))"
      ],
      "metadata": {
        "colab": {
          "base_uri": "https://localhost:8080/"
        },
        "id": "u-aYqJ9tBygU",
        "outputId": "c264a679-890e-43e1-ffbf-58a3cbc04e8c"
      },
      "execution_count": null,
      "outputs": [
        {
          "output_type": "stream",
          "name": "stdout",
          "text": [
            "[[1]\n",
            " [2]]\n"
          ]
        }
      ]
    },
    {
      "cell_type": "code",
      "source": [
        "print(np.argwhere(arr > 0))"
      ],
      "metadata": {
        "colab": {
          "base_uri": "https://localhost:8080/"
        },
        "id": "M2oK7-gjD3t5",
        "outputId": "278b22fb-6184-4902-ef88-a49151dfe0d0"
      },
      "execution_count": null,
      "outputs": [
        {
          "output_type": "stream",
          "name": "stdout",
          "text": [
            "[[0]\n",
            " [1]\n",
            " [2]]\n"
          ]
        }
      ]
    },
    {
      "cell_type": "code",
      "source": [
        "mask = np.logical_and(arr >0, arr<3)\n",
        "mask"
      ],
      "metadata": {
        "colab": {
          "base_uri": "https://localhost:8080/"
        },
        "id": "pRPuQnPSEJve",
        "outputId": "74ed4917-b885-434d-d7fe-7e1bc78005d6"
      },
      "execution_count": null,
      "outputs": [
        {
          "output_type": "execute_result",
          "data": {
            "text/plain": [
              "array([ True,  True, False])"
            ]
          },
          "metadata": {},
          "execution_count": 84
        }
      ]
    },
    {
      "cell_type": "code",
      "source": [
        "matrix"
      ],
      "metadata": {
        "colab": {
          "base_uri": "https://localhost:8080/"
        },
        "id": "hWODiX6KGi9C",
        "outputId": "a0370fac-0cc4-4c1b-a5b9-f5e97c4c2d3a"
      },
      "execution_count": null,
      "outputs": [
        {
          "output_type": "execute_result",
          "data": {
            "text/plain": [
              "array([[1, 2, 3],\n",
              "       [4, 5, 6],\n",
              "       [7, 8, 9]])"
            ]
          },
          "metadata": {},
          "execution_count": 86
        }
      ]
    },
    {
      "cell_type": "code",
      "source": [
        "print(np.argwhere(matrix > 5))"
      ],
      "metadata": {
        "colab": {
          "base_uri": "https://localhost:8080/"
        },
        "id": "8rv07f5uGUu5",
        "outputId": "6b22bdf5-7681-4a75-b18c-f7bb891d5ca1"
      },
      "execution_count": null,
      "outputs": [
        {
          "output_type": "stream",
          "name": "stdout",
          "text": [
            "[[1 2]\n",
            " [2 0]\n",
            " [2 1]\n",
            " [2 2]]\n"
          ]
        }
      ]
    },
    {
      "cell_type": "code",
      "source": [
        "arr"
      ],
      "metadata": {
        "colab": {
          "base_uri": "https://localhost:8080/"
        },
        "id": "8NuVmLx0Gbuz",
        "outputId": "c6b18a91-c166-4bed-d4cc-06fe500059b5"
      },
      "execution_count": null,
      "outputs": [
        {
          "output_type": "execute_result",
          "data": {
            "text/plain": [
              "array([1, 2, 3])"
            ]
          },
          "metadata": {},
          "execution_count": 87
        }
      ]
    },
    {
      "cell_type": "code",
      "source": [
        "mask = np.logical_and(arr >0, arr < 5)\n",
        "mask\n",
        "arr[mask]"
      ],
      "metadata": {
        "colab": {
          "base_uri": "https://localhost:8080/"
        },
        "id": "RYOIBcQdG-9K",
        "outputId": "6d3a0ab2-a620-455c-b937-52fadca94f34"
      },
      "execution_count": null,
      "outputs": [
        {
          "output_type": "execute_result",
          "data": {
            "text/plain": [
              "array([1, 2, 3])"
            ]
          },
          "metadata": {},
          "execution_count": 90
        }
      ]
    },
    {
      "cell_type": "code",
      "source": [
        "#logical OR\n",
        "\n",
        "a = np.array([1, 2, 3, 4, 5])\n",
        "\n",
        "log_or = np.logical_or(arr>2, arr < 5)\n",
        "log_or"
      ],
      "metadata": {
        "colab": {
          "base_uri": "https://localhost:8080/"
        },
        "id": "Krbv9AKOHQFV",
        "outputId": "94a8348c-b136-4ec5-9a50-d44381a568f1"
      },
      "execution_count": null,
      "outputs": [
        {
          "output_type": "execute_result",
          "data": {
            "text/plain": [
              "array([ True,  True,  True])"
            ]
          },
          "metadata": {},
          "execution_count": 92
        }
      ]
    },
    {
      "cell_type": "markdown",
      "source": [
        "recap:-"
      ],
      "metadata": {
        "id": "74BQ_eFfIIIc"
      }
    },
    {
      "cell_type": "markdown",
      "source": [
        "![Screenshot 2025-07-25 203704.png](data:image/png;base64,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)"
      ],
      "metadata": {
        "id": "wmT8KJJdH7ZL"
      }
    },
    {
      "cell_type": "markdown",
      "source": [
        "#Broadcasting"
      ],
      "metadata": {
        "id": "Vj_POx5gIDUu"
      }
    },
    {
      "cell_type": "markdown",
      "source": [
        "\n",
        "*   Broadcasting refers to how numpy treats arrays having different size while working with operators\n",
        "*   Broadcasting is used to do arithmetic operations on arrays of different dimensions\n",
        "\n",
        "*   suppose there are two arrays of different sizes, the smaller array can be stretched to match the size of the larger array to do further computation"
      ],
      "metadata": {
        "id": "sxhY8eMxIpSt"
      }
    },
    {
      "cell_type": "markdown",
      "source": [
        "#Vectorization"
      ],
      "metadata": {
        "id": "JXxaL2gpK4eF"
      }
    },
    {
      "cell_type": "markdown",
      "source": [
        "np.vectorize() -> convert a regular function to be applied on an array"
      ],
      "metadata": {
        "id": "M8RLZTZKLMDC"
      }
    },
    {
      "cell_type": "code",
      "source": [],
      "metadata": {
        "id": "qqYY395BJwSU"
      },
      "execution_count": null,
      "outputs": []
    }
  ]
}